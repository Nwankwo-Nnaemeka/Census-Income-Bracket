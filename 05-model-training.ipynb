{
 "cells": [
  {
   "cell_type": "code",
   "execution_count": 1,
   "id": "0eea58ce-de6f-466a-8f55-3b829b1b1702",
   "metadata": {},
   "outputs": [],
   "source": [
    "#Import Libraries\n",
    "import mlflow\n",
    "import numpy as np\n",
    "import pandas as pd\n",
    "import seaborn as sns\n",
    "import xgboost as xgb\n",
    "import tensorflow as tf\n",
    "from utils import read_yaml\n",
    "from sklearn.svm import SVC\n",
    "import matplotlib.pyplot as plt\n",
    "from imblearn.over_sampling import SMOTE\n",
    "from mlflow.models import infer_signature\n",
    "from sklearn.neighbors import KNeighborsClassifier\n",
    "from sklearn.linear_model import LogisticRegression\n",
    "from mlflow.data.pandas_dataset import PandasDataset\n",
    "from imblearn.under_sampling import OneSidedSelection\n",
    "from sklearn.preprocessing import LabelEncoder, StandardScaler\n",
    "from sklearn.ensemble import RandomForestClassifier, AdaBoostClassifier\n",
    "from sklearn.model_selection import train_test_split,cross_val_score,RandomizedSearchCV\n",
    "from sklearn.metrics import (roc_curve, roc_auc_score, \n",
    "                            classification_report, accuracy_score, \n",
    "                            precision_score, recall_score, \n",
    "                            f1_score)\n"
   ]
  },
  {
   "cell_type": "code",
   "execution_count": 2,
   "id": "1005b420-86c4-415d-9ed4-3ea45c648b58",
   "metadata": {},
   "outputs": [],
   "source": [
    "train = pd.read_csv('data/train1.csv')\n",
    "test = pd.read_csv('data/test1.csv')"
   ]
  },
  {
   "cell_type": "code",
   "execution_count": 3,
   "id": "8d2c6137-01c6-499a-8a61-69470f83ef46",
   "metadata": {},
   "outputs": [
    {
     "data": {
      "text/html": [
       "<div>\n",
       "<style scoped>\n",
       "    .dataframe tbody tr th:only-of-type {\n",
       "        vertical-align: middle;\n",
       "    }\n",
       "\n",
       "    .dataframe tbody tr th {\n",
       "        vertical-align: top;\n",
       "    }\n",
       "\n",
       "    .dataframe thead th {\n",
       "        text-align: right;\n",
       "    }\n",
       "</style>\n",
       "<table border=\"1\" class=\"dataframe\">\n",
       "  <thead>\n",
       "    <tr style=\"text-align: right;\">\n",
       "      <th></th>\n",
       "      <th>age</th>\n",
       "      <th>workclass</th>\n",
       "      <th>fnlwgt</th>\n",
       "      <th>education</th>\n",
       "      <th>education_num</th>\n",
       "      <th>marital_status</th>\n",
       "      <th>occupation</th>\n",
       "      <th>relationship</th>\n",
       "      <th>race</th>\n",
       "      <th>sex</th>\n",
       "      <th>capital_gain</th>\n",
       "      <th>capital_loss</th>\n",
       "      <th>hours_per_week</th>\n",
       "      <th>native_country</th>\n",
       "      <th>income</th>\n",
       "    </tr>\n",
       "  </thead>\n",
       "  <tbody>\n",
       "    <tr>\n",
       "      <th>0</th>\n",
       "      <td>0.333333</td>\n",
       "      <td>0.0</td>\n",
       "      <td>0.044302</td>\n",
       "      <td>0.066667</td>\n",
       "      <td>0.800000</td>\n",
       "      <td>1.000000</td>\n",
       "      <td>0.285714</td>\n",
       "      <td>0.8</td>\n",
       "      <td>1.0</td>\n",
       "      <td>0.0</td>\n",
       "      <td>0.02174</td>\n",
       "      <td>0.0</td>\n",
       "      <td>0.397959</td>\n",
       "      <td>1.0</td>\n",
       "      <td>0.0</td>\n",
       "    </tr>\n",
       "    <tr>\n",
       "      <th>1</th>\n",
       "      <td>0.333333</td>\n",
       "      <td>0.0</td>\n",
       "      <td>0.048238</td>\n",
       "      <td>0.066667</td>\n",
       "      <td>0.800000</td>\n",
       "      <td>0.666667</td>\n",
       "      <td>0.071429</td>\n",
       "      <td>0.2</td>\n",
       "      <td>1.0</td>\n",
       "      <td>0.0</td>\n",
       "      <td>0.00000</td>\n",
       "      <td>0.0</td>\n",
       "      <td>0.122449</td>\n",
       "      <td>1.0</td>\n",
       "      <td>0.0</td>\n",
       "    </tr>\n",
       "    <tr>\n",
       "      <th>2</th>\n",
       "      <td>0.333333</td>\n",
       "      <td>1.0</td>\n",
       "      <td>0.138113</td>\n",
       "      <td>0.000000</td>\n",
       "      <td>0.533333</td>\n",
       "      <td>0.333333</td>\n",
       "      <td>0.642857</td>\n",
       "      <td>0.8</td>\n",
       "      <td>1.0</td>\n",
       "      <td>0.0</td>\n",
       "      <td>0.00000</td>\n",
       "      <td>0.0</td>\n",
       "      <td>0.397959</td>\n",
       "      <td>1.0</td>\n",
       "      <td>0.0</td>\n",
       "    </tr>\n",
       "    <tr>\n",
       "      <th>3</th>\n",
       "      <td>0.333333</td>\n",
       "      <td>1.0</td>\n",
       "      <td>0.151068</td>\n",
       "      <td>0.866667</td>\n",
       "      <td>0.400000</td>\n",
       "      <td>0.666667</td>\n",
       "      <td>0.642857</td>\n",
       "      <td>0.2</td>\n",
       "      <td>0.0</td>\n",
       "      <td>0.0</td>\n",
       "      <td>0.00000</td>\n",
       "      <td>0.0</td>\n",
       "      <td>0.397959</td>\n",
       "      <td>1.0</td>\n",
       "      <td>0.0</td>\n",
       "    </tr>\n",
       "    <tr>\n",
       "      <th>4</th>\n",
       "      <td>0.000000</td>\n",
       "      <td>1.0</td>\n",
       "      <td>0.221488</td>\n",
       "      <td>0.066667</td>\n",
       "      <td>0.800000</td>\n",
       "      <td>0.666667</td>\n",
       "      <td>0.142857</td>\n",
       "      <td>0.6</td>\n",
       "      <td>0.0</td>\n",
       "      <td>1.0</td>\n",
       "      <td>0.00000</td>\n",
       "      <td>0.0</td>\n",
       "      <td>0.397959</td>\n",
       "      <td>0.0</td>\n",
       "      <td>0.0</td>\n",
       "    </tr>\n",
       "  </tbody>\n",
       "</table>\n",
       "</div>"
      ],
      "text/plain": [
       "        age  workclass    fnlwgt  education  education_num  marital_status  \\\n",
       "0  0.333333        0.0  0.044302   0.066667       0.800000        1.000000   \n",
       "1  0.333333        0.0  0.048238   0.066667       0.800000        0.666667   \n",
       "2  0.333333        1.0  0.138113   0.000000       0.533333        0.333333   \n",
       "3  0.333333        1.0  0.151068   0.866667       0.400000        0.666667   \n",
       "4  0.000000        1.0  0.221488   0.066667       0.800000        0.666667   \n",
       "\n",
       "   occupation  relationship  race  sex  capital_gain  capital_loss  \\\n",
       "0    0.285714           0.8   1.0  0.0       0.02174           0.0   \n",
       "1    0.071429           0.2   1.0  0.0       0.00000           0.0   \n",
       "2    0.642857           0.8   1.0  0.0       0.00000           0.0   \n",
       "3    0.642857           0.2   0.0  0.0       0.00000           0.0   \n",
       "4    0.142857           0.6   0.0  1.0       0.00000           0.0   \n",
       "\n",
       "   hours_per_week  native_country  income  \n",
       "0        0.397959             1.0     0.0  \n",
       "1        0.122449             1.0     0.0  \n",
       "2        0.397959             1.0     0.0  \n",
       "3        0.397959             1.0     0.0  \n",
       "4        0.397959             0.0     0.0  "
      ]
     },
     "execution_count": 3,
     "metadata": {},
     "output_type": "execute_result"
    }
   ],
   "source": [
    "train.head()"
   ]
  },
  {
   "cell_type": "code",
   "execution_count": 4,
   "id": "ee112344-cf12-4be3-a5a8-b2efaae7146b",
   "metadata": {},
   "outputs": [
    {
     "data": {
      "text/html": [
       "<div>\n",
       "<style scoped>\n",
       "    .dataframe tbody tr th:only-of-type {\n",
       "        vertical-align: middle;\n",
       "    }\n",
       "\n",
       "    .dataframe tbody tr th {\n",
       "        vertical-align: top;\n",
       "    }\n",
       "\n",
       "    .dataframe thead th {\n",
       "        text-align: right;\n",
       "    }\n",
       "</style>\n",
       "<table border=\"1\" class=\"dataframe\">\n",
       "  <thead>\n",
       "    <tr style=\"text-align: right;\">\n",
       "      <th></th>\n",
       "      <th>age</th>\n",
       "      <th>workclass</th>\n",
       "      <th>fnlwgt</th>\n",
       "      <th>education</th>\n",
       "      <th>education_num</th>\n",
       "      <th>marital_status</th>\n",
       "      <th>occupation</th>\n",
       "      <th>relationship</th>\n",
       "      <th>race</th>\n",
       "      <th>sex</th>\n",
       "      <th>capital_gain</th>\n",
       "      <th>capital_loss</th>\n",
       "      <th>hours_per_week</th>\n",
       "      <th>native_country</th>\n",
       "      <th>income</th>\n",
       "    </tr>\n",
       "  </thead>\n",
       "  <tbody>\n",
       "    <tr>\n",
       "      <th>0</th>\n",
       "      <td>0.000000</td>\n",
       "      <td>1.0</td>\n",
       "      <td>0.144430</td>\n",
       "      <td>0.866667</td>\n",
       "      <td>0.400000</td>\n",
       "      <td>1.000000</td>\n",
       "      <td>0.214286</td>\n",
       "      <td>1.0</td>\n",
       "      <td>0.0</td>\n",
       "      <td>0.0</td>\n",
       "      <td>0.000000</td>\n",
       "      <td>0.0</td>\n",
       "      <td>0.397959</td>\n",
       "      <td>1.0</td>\n",
       "      <td>0.0</td>\n",
       "    </tr>\n",
       "    <tr>\n",
       "      <th>1</th>\n",
       "      <td>0.333333</td>\n",
       "      <td>1.0</td>\n",
       "      <td>0.051677</td>\n",
       "      <td>0.000000</td>\n",
       "      <td>0.533333</td>\n",
       "      <td>0.666667</td>\n",
       "      <td>0.285714</td>\n",
       "      <td>0.2</td>\n",
       "      <td>1.0</td>\n",
       "      <td>0.0</td>\n",
       "      <td>0.000000</td>\n",
       "      <td>0.0</td>\n",
       "      <td>0.500000</td>\n",
       "      <td>1.0</td>\n",
       "      <td>0.0</td>\n",
       "    </tr>\n",
       "    <tr>\n",
       "      <th>2</th>\n",
       "      <td>0.000000</td>\n",
       "      <td>0.0</td>\n",
       "      <td>0.219011</td>\n",
       "      <td>0.400000</td>\n",
       "      <td>0.733333</td>\n",
       "      <td>0.666667</td>\n",
       "      <td>0.428571</td>\n",
       "      <td>0.2</td>\n",
       "      <td>1.0</td>\n",
       "      <td>0.0</td>\n",
       "      <td>0.000000</td>\n",
       "      <td>0.0</td>\n",
       "      <td>0.397959</td>\n",
       "      <td>1.0</td>\n",
       "      <td>1.0</td>\n",
       "    </tr>\n",
       "    <tr>\n",
       "      <th>3</th>\n",
       "      <td>0.333333</td>\n",
       "      <td>1.0</td>\n",
       "      <td>0.099418</td>\n",
       "      <td>0.133333</td>\n",
       "      <td>0.600000</td>\n",
       "      <td>0.666667</td>\n",
       "      <td>0.214286</td>\n",
       "      <td>0.2</td>\n",
       "      <td>0.0</td>\n",
       "      <td>0.0</td>\n",
       "      <td>0.076881</td>\n",
       "      <td>0.0</td>\n",
       "      <td>0.397959</td>\n",
       "      <td>1.0</td>\n",
       "      <td>1.0</td>\n",
       "    </tr>\n",
       "    <tr>\n",
       "      <th>4</th>\n",
       "      <td>0.000000</td>\n",
       "      <td>0.0</td>\n",
       "      <td>0.060942</td>\n",
       "      <td>0.133333</td>\n",
       "      <td>0.600000</td>\n",
       "      <td>1.000000</td>\n",
       "      <td>0.714286</td>\n",
       "      <td>1.0</td>\n",
       "      <td>1.0</td>\n",
       "      <td>1.0</td>\n",
       "      <td>0.000000</td>\n",
       "      <td>0.0</td>\n",
       "      <td>0.295918</td>\n",
       "      <td>1.0</td>\n",
       "      <td>0.0</td>\n",
       "    </tr>\n",
       "  </tbody>\n",
       "</table>\n",
       "</div>"
      ],
      "text/plain": [
       "        age  workclass    fnlwgt  education  education_num  marital_status  \\\n",
       "0  0.000000        1.0  0.144430   0.866667       0.400000        1.000000   \n",
       "1  0.333333        1.0  0.051677   0.000000       0.533333        0.666667   \n",
       "2  0.000000        0.0  0.219011   0.400000       0.733333        0.666667   \n",
       "3  0.333333        1.0  0.099418   0.133333       0.600000        0.666667   \n",
       "4  0.000000        0.0  0.060942   0.133333       0.600000        1.000000   \n",
       "\n",
       "   occupation  relationship  race  sex  capital_gain  capital_loss  \\\n",
       "0    0.214286           1.0   0.0  0.0      0.000000           0.0   \n",
       "1    0.285714           0.2   1.0  0.0      0.000000           0.0   \n",
       "2    0.428571           0.2   1.0  0.0      0.000000           0.0   \n",
       "3    0.214286           0.2   0.0  0.0      0.076881           0.0   \n",
       "4    0.714286           1.0   1.0  1.0      0.000000           0.0   \n",
       "\n",
       "   hours_per_week  native_country  income  \n",
       "0        0.397959             1.0     0.0  \n",
       "1        0.500000             1.0     0.0  \n",
       "2        0.397959             1.0     1.0  \n",
       "3        0.397959             1.0     1.0  \n",
       "4        0.295918             1.0     0.0  "
      ]
     },
     "execution_count": 4,
     "metadata": {},
     "output_type": "execute_result"
    }
   ],
   "source": [
    "test.head()"
   ]
  },
  {
   "cell_type": "code",
   "execution_count": 5,
   "id": "6a43dd89-e8ce-4df1-8439-b894ca505cee",
   "metadata": {},
   "outputs": [],
   "source": [
    "#X_train = train.drop('income', axis = 1)\n",
    "X_train = train.drop(['income'], axis = 1)"
   ]
  },
  {
   "cell_type": "code",
   "execution_count": 6,
   "id": "53c485ee-f06b-4e71-9c33-30e18fb63042",
   "metadata": {},
   "outputs": [],
   "source": [
    "#X_test = test.drop('income', axis = 1)\n",
    "X_test = test.drop(['income'], axis = 1)"
   ]
  },
  {
   "cell_type": "code",
   "execution_count": 7,
   "id": "465b1014-0c03-4713-a625-6cf91968cab0",
   "metadata": {},
   "outputs": [],
   "source": [
    "y_train = train['income']\n",
    "y_test = test['income']"
   ]
  },
  {
   "cell_type": "code",
   "execution_count": 8,
   "id": "71b52fe7-9cc8-4bdf-b9e4-b38be16ad998",
   "metadata": {},
   "outputs": [],
   "source": [
    "#undersampling the train set\n",
    "under = OneSidedSelection()\n",
    "X_train_usample, y_train_usample = under.fit_resample(X_train, train['income'])\n",
    "\n",
    "\n",
    "#oversampling the train set\n",
    "sm = SMOTE()\n",
    "X_train_osample, y_train_osample = sm.fit_resample(X_train_usample, y_train_usample)\n",
    "\n",
    "X_train = pd.DataFrame(X_train_osample, columns=train.drop(['income'], axis=1).columns)\n",
    "\n",
    "\n",
    "\n",
    "#creating the final train \n",
    "X_train = pd.concat([X_train, y_train_osample], axis=1)"
   ]
  },
  {
   "cell_type": "code",
   "execution_count": 9,
   "id": "b0fa5800-a918-4822-a084-7b8c72dbd059",
   "metadata": {},
   "outputs": [
    {
     "data": {
      "text/html": [
       "<div>\n",
       "<style scoped>\n",
       "    .dataframe tbody tr th:only-of-type {\n",
       "        vertical-align: middle;\n",
       "    }\n",
       "\n",
       "    .dataframe tbody tr th {\n",
       "        vertical-align: top;\n",
       "    }\n",
       "\n",
       "    .dataframe thead th {\n",
       "        text-align: right;\n",
       "    }\n",
       "</style>\n",
       "<table border=\"1\" class=\"dataframe\">\n",
       "  <thead>\n",
       "    <tr style=\"text-align: right;\">\n",
       "      <th></th>\n",
       "      <th>age</th>\n",
       "      <th>workclass</th>\n",
       "      <th>fnlwgt</th>\n",
       "      <th>education</th>\n",
       "      <th>education_num</th>\n",
       "      <th>marital_status</th>\n",
       "      <th>occupation</th>\n",
       "      <th>relationship</th>\n",
       "      <th>race</th>\n",
       "      <th>sex</th>\n",
       "      <th>capital_gain</th>\n",
       "      <th>capital_loss</th>\n",
       "      <th>hours_per_week</th>\n",
       "      <th>native_country</th>\n",
       "      <th>income</th>\n",
       "    </tr>\n",
       "  </thead>\n",
       "  <tbody>\n",
       "    <tr>\n",
       "      <th>0</th>\n",
       "      <td>0.000000</td>\n",
       "      <td>1.0</td>\n",
       "      <td>0.057742</td>\n",
       "      <td>0.066667</td>\n",
       "      <td>0.800000</td>\n",
       "      <td>1.000000</td>\n",
       "      <td>0.285714</td>\n",
       "      <td>0.8</td>\n",
       "      <td>1.0</td>\n",
       "      <td>1.0</td>\n",
       "      <td>0.00000</td>\n",
       "      <td>0.0</td>\n",
       "      <td>0.479592</td>\n",
       "      <td>1.0</td>\n",
       "      <td>0.0</td>\n",
       "    </tr>\n",
       "    <tr>\n",
       "      <th>1</th>\n",
       "      <td>0.333333</td>\n",
       "      <td>0.0</td>\n",
       "      <td>0.044302</td>\n",
       "      <td>0.066667</td>\n",
       "      <td>0.800000</td>\n",
       "      <td>1.000000</td>\n",
       "      <td>0.285714</td>\n",
       "      <td>0.8</td>\n",
       "      <td>1.0</td>\n",
       "      <td>0.0</td>\n",
       "      <td>0.02174</td>\n",
       "      <td>0.0</td>\n",
       "      <td>0.397959</td>\n",
       "      <td>1.0</td>\n",
       "      <td>0.0</td>\n",
       "    </tr>\n",
       "    <tr>\n",
       "      <th>2</th>\n",
       "      <td>0.333333</td>\n",
       "      <td>0.0</td>\n",
       "      <td>0.048238</td>\n",
       "      <td>0.066667</td>\n",
       "      <td>0.800000</td>\n",
       "      <td>0.666667</td>\n",
       "      <td>0.071429</td>\n",
       "      <td>0.2</td>\n",
       "      <td>1.0</td>\n",
       "      <td>0.0</td>\n",
       "      <td>0.00000</td>\n",
       "      <td>0.0</td>\n",
       "      <td>0.122449</td>\n",
       "      <td>1.0</td>\n",
       "      <td>0.0</td>\n",
       "    </tr>\n",
       "    <tr>\n",
       "      <th>3</th>\n",
       "      <td>0.333333</td>\n",
       "      <td>1.0</td>\n",
       "      <td>0.138113</td>\n",
       "      <td>0.000000</td>\n",
       "      <td>0.533333</td>\n",
       "      <td>0.333333</td>\n",
       "      <td>0.642857</td>\n",
       "      <td>0.8</td>\n",
       "      <td>1.0</td>\n",
       "      <td>0.0</td>\n",
       "      <td>0.00000</td>\n",
       "      <td>0.0</td>\n",
       "      <td>0.397959</td>\n",
       "      <td>1.0</td>\n",
       "      <td>0.0</td>\n",
       "    </tr>\n",
       "    <tr>\n",
       "      <th>4</th>\n",
       "      <td>0.000000</td>\n",
       "      <td>1.0</td>\n",
       "      <td>0.221488</td>\n",
       "      <td>0.066667</td>\n",
       "      <td>0.800000</td>\n",
       "      <td>0.666667</td>\n",
       "      <td>0.142857</td>\n",
       "      <td>0.6</td>\n",
       "      <td>0.0</td>\n",
       "      <td>1.0</td>\n",
       "      <td>0.00000</td>\n",
       "      <td>0.0</td>\n",
       "      <td>0.397959</td>\n",
       "      <td>0.0</td>\n",
       "      <td>0.0</td>\n",
       "    </tr>\n",
       "  </tbody>\n",
       "</table>\n",
       "</div>"
      ],
      "text/plain": [
       "        age  workclass    fnlwgt  education  education_num  marital_status  \\\n",
       "0  0.000000        1.0  0.057742   0.066667       0.800000        1.000000   \n",
       "1  0.333333        0.0  0.044302   0.066667       0.800000        1.000000   \n",
       "2  0.333333        0.0  0.048238   0.066667       0.800000        0.666667   \n",
       "3  0.333333        1.0  0.138113   0.000000       0.533333        0.333333   \n",
       "4  0.000000        1.0  0.221488   0.066667       0.800000        0.666667   \n",
       "\n",
       "   occupation  relationship  race  sex  capital_gain  capital_loss  \\\n",
       "0    0.285714           0.8   1.0  1.0       0.00000           0.0   \n",
       "1    0.285714           0.8   1.0  0.0       0.02174           0.0   \n",
       "2    0.071429           0.2   1.0  0.0       0.00000           0.0   \n",
       "3    0.642857           0.8   1.0  0.0       0.00000           0.0   \n",
       "4    0.142857           0.6   0.0  1.0       0.00000           0.0   \n",
       "\n",
       "   hours_per_week  native_country  income  \n",
       "0        0.479592             1.0     0.0  \n",
       "1        0.397959             1.0     0.0  \n",
       "2        0.122449             1.0     0.0  \n",
       "3        0.397959             1.0     0.0  \n",
       "4        0.397959             0.0     0.0  "
      ]
     },
     "execution_count": 9,
     "metadata": {},
     "output_type": "execute_result"
    }
   ],
   "source": [
    "X_train.head()"
   ]
  },
  {
   "cell_type": "code",
   "execution_count": 10,
   "id": "8aedc68b-a064-4e35-aa96-ed908bae89da",
   "metadata": {},
   "outputs": [
    {
     "name": "stdout",
     "output_type": "stream",
     "text": [
      "<class 'pandas.core.frame.DataFrame'>\n",
      "RangeIndex: 45780 entries, 0 to 45779\n",
      "Data columns (total 15 columns):\n",
      " #   Column          Non-Null Count  Dtype  \n",
      "---  ------          --------------  -----  \n",
      " 0   age             45780 non-null  float64\n",
      " 1   workclass       45780 non-null  float64\n",
      " 2   fnlwgt          45780 non-null  float64\n",
      " 3   education       45780 non-null  float64\n",
      " 4   education_num   45780 non-null  float64\n",
      " 5   marital_status  45780 non-null  float64\n",
      " 6   occupation      45780 non-null  float64\n",
      " 7   relationship    45780 non-null  float64\n",
      " 8   race            45780 non-null  float64\n",
      " 9   sex             45780 non-null  float64\n",
      " 10  capital_gain    45780 non-null  float64\n",
      " 11  capital_loss    45780 non-null  float64\n",
      " 12  hours_per_week  45780 non-null  float64\n",
      " 13  native_country  45780 non-null  float64\n",
      " 14  income          45780 non-null  float64\n",
      "dtypes: float64(15)\n",
      "memory usage: 5.2 MB\n"
     ]
    }
   ],
   "source": [
    "X_train.info()"
   ]
  },
  {
   "cell_type": "code",
   "execution_count": 11,
   "id": "a2513eb3-51c6-4ec9-835e-6bc8e42cd0c6",
   "metadata": {},
   "outputs": [],
   "source": [
    "y_train = X_train['income']\n",
    "X_train.drop(['income', 'fnlwgt', 'race', 'education'], inplace=True, axis=1)"
   ]
  },
  {
   "cell_type": "code",
   "execution_count": 12,
   "id": "180a0753-0663-4b67-99c2-6935fb6d0d0c",
   "metadata": {},
   "outputs": [],
   "source": [
    "X_test.drop(['fnlwgt', 'race', 'education'], inplace=True, axis=1)"
   ]
  },
  {
   "cell_type": "code",
   "execution_count": 13,
   "id": "9b2e9cf3-1b5f-4985-b2d4-814fc94be756",
   "metadata": {},
   "outputs": [
    {
     "data": {
      "text/html": [
       "<div>\n",
       "<style scoped>\n",
       "    .dataframe tbody tr th:only-of-type {\n",
       "        vertical-align: middle;\n",
       "    }\n",
       "\n",
       "    .dataframe tbody tr th {\n",
       "        vertical-align: top;\n",
       "    }\n",
       "\n",
       "    .dataframe thead th {\n",
       "        text-align: right;\n",
       "    }\n",
       "</style>\n",
       "<table border=\"1\" class=\"dataframe\">\n",
       "  <thead>\n",
       "    <tr style=\"text-align: right;\">\n",
       "      <th></th>\n",
       "      <th>age</th>\n",
       "      <th>workclass</th>\n",
       "      <th>education_num</th>\n",
       "      <th>marital_status</th>\n",
       "      <th>occupation</th>\n",
       "      <th>relationship</th>\n",
       "      <th>sex</th>\n",
       "      <th>capital_gain</th>\n",
       "      <th>capital_loss</th>\n",
       "      <th>hours_per_week</th>\n",
       "      <th>native_country</th>\n",
       "    </tr>\n",
       "  </thead>\n",
       "  <tbody>\n",
       "    <tr>\n",
       "      <th>0</th>\n",
       "      <td>0.000000</td>\n",
       "      <td>1.0</td>\n",
       "      <td>0.800000</td>\n",
       "      <td>1.000000</td>\n",
       "      <td>0.285714</td>\n",
       "      <td>0.800000</td>\n",
       "      <td>1.0</td>\n",
       "      <td>0.000000</td>\n",
       "      <td>0.000000</td>\n",
       "      <td>0.479592</td>\n",
       "      <td>1.0</td>\n",
       "    </tr>\n",
       "    <tr>\n",
       "      <th>1</th>\n",
       "      <td>0.333333</td>\n",
       "      <td>0.0</td>\n",
       "      <td>0.800000</td>\n",
       "      <td>1.000000</td>\n",
       "      <td>0.285714</td>\n",
       "      <td>0.800000</td>\n",
       "      <td>0.0</td>\n",
       "      <td>0.021740</td>\n",
       "      <td>0.000000</td>\n",
       "      <td>0.397959</td>\n",
       "      <td>1.0</td>\n",
       "    </tr>\n",
       "    <tr>\n",
       "      <th>2</th>\n",
       "      <td>0.333333</td>\n",
       "      <td>0.0</td>\n",
       "      <td>0.800000</td>\n",
       "      <td>0.666667</td>\n",
       "      <td>0.071429</td>\n",
       "      <td>0.200000</td>\n",
       "      <td>0.0</td>\n",
       "      <td>0.000000</td>\n",
       "      <td>0.000000</td>\n",
       "      <td>0.122449</td>\n",
       "      <td>1.0</td>\n",
       "    </tr>\n",
       "    <tr>\n",
       "      <th>3</th>\n",
       "      <td>0.333333</td>\n",
       "      <td>1.0</td>\n",
       "      <td>0.533333</td>\n",
       "      <td>0.333333</td>\n",
       "      <td>0.642857</td>\n",
       "      <td>0.800000</td>\n",
       "      <td>0.0</td>\n",
       "      <td>0.000000</td>\n",
       "      <td>0.000000</td>\n",
       "      <td>0.397959</td>\n",
       "      <td>1.0</td>\n",
       "    </tr>\n",
       "    <tr>\n",
       "      <th>4</th>\n",
       "      <td>0.000000</td>\n",
       "      <td>1.0</td>\n",
       "      <td>0.800000</td>\n",
       "      <td>0.666667</td>\n",
       "      <td>0.142857</td>\n",
       "      <td>0.600000</td>\n",
       "      <td>1.0</td>\n",
       "      <td>0.000000</td>\n",
       "      <td>0.000000</td>\n",
       "      <td>0.397959</td>\n",
       "      <td>0.0</td>\n",
       "    </tr>\n",
       "    <tr>\n",
       "      <th>...</th>\n",
       "      <td>...</td>\n",
       "      <td>...</td>\n",
       "      <td>...</td>\n",
       "      <td>...</td>\n",
       "      <td>...</td>\n",
       "      <td>...</td>\n",
       "      <td>...</td>\n",
       "      <td>...</td>\n",
       "      <td>...</td>\n",
       "      <td>...</td>\n",
       "      <td>...</td>\n",
       "    </tr>\n",
       "    <tr>\n",
       "      <th>45775</th>\n",
       "      <td>0.333333</td>\n",
       "      <td>1.0</td>\n",
       "      <td>0.866667</td>\n",
       "      <td>0.666667</td>\n",
       "      <td>0.071429</td>\n",
       "      <td>0.200000</td>\n",
       "      <td>0.0</td>\n",
       "      <td>0.150242</td>\n",
       "      <td>0.000000</td>\n",
       "      <td>0.662818</td>\n",
       "      <td>1.0</td>\n",
       "    </tr>\n",
       "    <tr>\n",
       "      <th>45776</th>\n",
       "      <td>0.333333</td>\n",
       "      <td>1.0</td>\n",
       "      <td>0.800000</td>\n",
       "      <td>0.666667</td>\n",
       "      <td>0.128443</td>\n",
       "      <td>0.200000</td>\n",
       "      <td>0.0</td>\n",
       "      <td>0.000000</td>\n",
       "      <td>0.436639</td>\n",
       "      <td>0.500000</td>\n",
       "      <td>1.0</td>\n",
       "    </tr>\n",
       "    <tr>\n",
       "      <th>45777</th>\n",
       "      <td>0.333333</td>\n",
       "      <td>0.0</td>\n",
       "      <td>1.000000</td>\n",
       "      <td>0.666667</td>\n",
       "      <td>0.142857</td>\n",
       "      <td>0.200000</td>\n",
       "      <td>0.0</td>\n",
       "      <td>0.026547</td>\n",
       "      <td>0.000000</td>\n",
       "      <td>0.500000</td>\n",
       "      <td>1.0</td>\n",
       "    </tr>\n",
       "    <tr>\n",
       "      <th>45778</th>\n",
       "      <td>0.333333</td>\n",
       "      <td>1.0</td>\n",
       "      <td>0.548154</td>\n",
       "      <td>0.407438</td>\n",
       "      <td>0.071429</td>\n",
       "      <td>0.755537</td>\n",
       "      <td>1.0</td>\n",
       "      <td>0.000000</td>\n",
       "      <td>0.500196</td>\n",
       "      <td>0.397959</td>\n",
       "      <td>1.0</td>\n",
       "    </tr>\n",
       "    <tr>\n",
       "      <th>45779</th>\n",
       "      <td>0.000000</td>\n",
       "      <td>0.0</td>\n",
       "      <td>0.533333</td>\n",
       "      <td>0.666667</td>\n",
       "      <td>1.000000</td>\n",
       "      <td>0.200000</td>\n",
       "      <td>0.0</td>\n",
       "      <td>0.075977</td>\n",
       "      <td>0.000000</td>\n",
       "      <td>0.397959</td>\n",
       "      <td>1.0</td>\n",
       "    </tr>\n",
       "  </tbody>\n",
       "</table>\n",
       "<p>45780 rows × 11 columns</p>\n",
       "</div>"
      ],
      "text/plain": [
       "            age  workclass  education_num  marital_status  occupation  \\\n",
       "0      0.000000        1.0       0.800000        1.000000    0.285714   \n",
       "1      0.333333        0.0       0.800000        1.000000    0.285714   \n",
       "2      0.333333        0.0       0.800000        0.666667    0.071429   \n",
       "3      0.333333        1.0       0.533333        0.333333    0.642857   \n",
       "4      0.000000        1.0       0.800000        0.666667    0.142857   \n",
       "...         ...        ...            ...             ...         ...   \n",
       "45775  0.333333        1.0       0.866667        0.666667    0.071429   \n",
       "45776  0.333333        1.0       0.800000        0.666667    0.128443   \n",
       "45777  0.333333        0.0       1.000000        0.666667    0.142857   \n",
       "45778  0.333333        1.0       0.548154        0.407438    0.071429   \n",
       "45779  0.000000        0.0       0.533333        0.666667    1.000000   \n",
       "\n",
       "       relationship  sex  capital_gain  capital_loss  hours_per_week  \\\n",
       "0          0.800000  1.0      0.000000      0.000000        0.479592   \n",
       "1          0.800000  0.0      0.021740      0.000000        0.397959   \n",
       "2          0.200000  0.0      0.000000      0.000000        0.122449   \n",
       "3          0.800000  0.0      0.000000      0.000000        0.397959   \n",
       "4          0.600000  1.0      0.000000      0.000000        0.397959   \n",
       "...             ...  ...           ...           ...             ...   \n",
       "45775      0.200000  0.0      0.150242      0.000000        0.662818   \n",
       "45776      0.200000  0.0      0.000000      0.436639        0.500000   \n",
       "45777      0.200000  0.0      0.026547      0.000000        0.500000   \n",
       "45778      0.755537  1.0      0.000000      0.500196        0.397959   \n",
       "45779      0.200000  0.0      0.075977      0.000000        0.397959   \n",
       "\n",
       "       native_country  \n",
       "0                 1.0  \n",
       "1                 1.0  \n",
       "2                 1.0  \n",
       "3                 1.0  \n",
       "4                 0.0  \n",
       "...               ...  \n",
       "45775             1.0  \n",
       "45776             1.0  \n",
       "45777             1.0  \n",
       "45778             1.0  \n",
       "45779             1.0  \n",
       "\n",
       "[45780 rows x 11 columns]"
      ]
     },
     "execution_count": 13,
     "metadata": {},
     "output_type": "execute_result"
    }
   ],
   "source": [
    "X_train"
   ]
  },
  {
   "cell_type": "code",
   "execution_count": 14,
   "id": "c29534dc-4e4e-4809-9aff-3702bdd85a54",
   "metadata": {},
   "outputs": [
    {
     "data": {
      "text/html": [
       "<div>\n",
       "<style scoped>\n",
       "    .dataframe tbody tr th:only-of-type {\n",
       "        vertical-align: middle;\n",
       "    }\n",
       "\n",
       "    .dataframe tbody tr th {\n",
       "        vertical-align: top;\n",
       "    }\n",
       "\n",
       "    .dataframe thead th {\n",
       "        text-align: right;\n",
       "    }\n",
       "</style>\n",
       "<table border=\"1\" class=\"dataframe\">\n",
       "  <thead>\n",
       "    <tr style=\"text-align: right;\">\n",
       "      <th></th>\n",
       "      <th>age</th>\n",
       "      <th>workclass</th>\n",
       "      <th>education_num</th>\n",
       "      <th>marital_status</th>\n",
       "      <th>occupation</th>\n",
       "      <th>relationship</th>\n",
       "      <th>sex</th>\n",
       "      <th>capital_gain</th>\n",
       "      <th>capital_loss</th>\n",
       "      <th>hours_per_week</th>\n",
       "      <th>native_country</th>\n",
       "    </tr>\n",
       "  </thead>\n",
       "  <tbody>\n",
       "    <tr>\n",
       "      <th>0</th>\n",
       "      <td>0.000000</td>\n",
       "      <td>1.0</td>\n",
       "      <td>0.400000</td>\n",
       "      <td>1.000000</td>\n",
       "      <td>0.214286</td>\n",
       "      <td>1.0</td>\n",
       "      <td>0.0</td>\n",
       "      <td>0.000000</td>\n",
       "      <td>0.0</td>\n",
       "      <td>0.397959</td>\n",
       "      <td>1.0</td>\n",
       "    </tr>\n",
       "    <tr>\n",
       "      <th>1</th>\n",
       "      <td>0.333333</td>\n",
       "      <td>1.0</td>\n",
       "      <td>0.533333</td>\n",
       "      <td>0.666667</td>\n",
       "      <td>0.285714</td>\n",
       "      <td>0.2</td>\n",
       "      <td>0.0</td>\n",
       "      <td>0.000000</td>\n",
       "      <td>0.0</td>\n",
       "      <td>0.500000</td>\n",
       "      <td>1.0</td>\n",
       "    </tr>\n",
       "    <tr>\n",
       "      <th>2</th>\n",
       "      <td>0.000000</td>\n",
       "      <td>0.0</td>\n",
       "      <td>0.733333</td>\n",
       "      <td>0.666667</td>\n",
       "      <td>0.428571</td>\n",
       "      <td>0.2</td>\n",
       "      <td>0.0</td>\n",
       "      <td>0.000000</td>\n",
       "      <td>0.0</td>\n",
       "      <td>0.397959</td>\n",
       "      <td>1.0</td>\n",
       "    </tr>\n",
       "    <tr>\n",
       "      <th>3</th>\n",
       "      <td>0.333333</td>\n",
       "      <td>1.0</td>\n",
       "      <td>0.600000</td>\n",
       "      <td>0.666667</td>\n",
       "      <td>0.214286</td>\n",
       "      <td>0.2</td>\n",
       "      <td>0.0</td>\n",
       "      <td>0.076881</td>\n",
       "      <td>0.0</td>\n",
       "      <td>0.397959</td>\n",
       "      <td>1.0</td>\n",
       "    </tr>\n",
       "    <tr>\n",
       "      <th>4</th>\n",
       "      <td>0.000000</td>\n",
       "      <td>0.0</td>\n",
       "      <td>0.600000</td>\n",
       "      <td>1.000000</td>\n",
       "      <td>0.714286</td>\n",
       "      <td>1.0</td>\n",
       "      <td>1.0</td>\n",
       "      <td>0.000000</td>\n",
       "      <td>0.0</td>\n",
       "      <td>0.295918</td>\n",
       "      <td>1.0</td>\n",
       "    </tr>\n",
       "  </tbody>\n",
       "</table>\n",
       "</div>"
      ],
      "text/plain": [
       "        age  workclass  education_num  marital_status  occupation  \\\n",
       "0  0.000000        1.0       0.400000        1.000000    0.214286   \n",
       "1  0.333333        1.0       0.533333        0.666667    0.285714   \n",
       "2  0.000000        0.0       0.733333        0.666667    0.428571   \n",
       "3  0.333333        1.0       0.600000        0.666667    0.214286   \n",
       "4  0.000000        0.0       0.600000        1.000000    0.714286   \n",
       "\n",
       "   relationship  sex  capital_gain  capital_loss  hours_per_week  \\\n",
       "0           1.0  0.0      0.000000           0.0        0.397959   \n",
       "1           0.2  0.0      0.000000           0.0        0.500000   \n",
       "2           0.2  0.0      0.000000           0.0        0.397959   \n",
       "3           0.2  0.0      0.076881           0.0        0.397959   \n",
       "4           1.0  1.0      0.000000           0.0        0.295918   \n",
       "\n",
       "   native_country  \n",
       "0             1.0  \n",
       "1             1.0  \n",
       "2             1.0  \n",
       "3             1.0  \n",
       "4             1.0  "
      ]
     },
     "execution_count": 14,
     "metadata": {},
     "output_type": "execute_result"
    }
   ],
   "source": [
    "X_test.head()"
   ]
  },
  {
   "cell_type": "code",
   "execution_count": 15,
   "id": "26ddd876-442f-4b52-b6e1-155701005365",
   "metadata": {},
   "outputs": [
    {
     "data": {
      "text/plain": [
       "0.0    22890\n",
       "1.0    22890\n",
       "Name: income, dtype: int64"
      ]
     },
     "execution_count": 15,
     "metadata": {},
     "output_type": "execute_result"
    }
   ],
   "source": [
    "y_train.value_counts()"
   ]
  },
  {
   "cell_type": "code",
   "execution_count": 16,
   "id": "98eeec94-699f-4425-9eb3-e88a42ff5423",
   "metadata": {},
   "outputs": [
    {
     "name": "stdout",
     "output_type": "stream",
     "text": [
      "yaml file: params.yaml loaded successfully\n"
     ]
    }
   ],
   "source": [
    "configbox = read_yaml('params.yaml')\n",
    "xgb_params = configbox.XGBOOST"
   ]
  },
  {
   "cell_type": "code",
   "execution_count": 17,
   "id": "48508595-db36-4a49-88e2-bdd8c7273fb4",
   "metadata": {},
   "outputs": [
    {
     "data": {
      "text/plain": [
       "ConfigBox({'n_estimators': 128, 'learning_rate': 0.1, 'max_depth': 6})"
      ]
     },
     "execution_count": 17,
     "metadata": {},
     "output_type": "execute_result"
    }
   ],
   "source": [
    "xgb_params"
   ]
  },
  {
   "cell_type": "markdown",
   "id": "1f5d33c9-3515-4c2b-ab79-a9a7f452c0df",
   "metadata": {},
   "source": [
    "### XGB"
   ]
  },
  {
   "cell_type": "code",
   "execution_count": 18,
   "id": "fbd58a0f-eafb-4361-85a7-94638ddca756",
   "metadata": {},
   "outputs": [],
   "source": [
    "xgb_classifier = xgb.XGBClassifier(n_estimators = xgb_params.n_estimators,\n",
    "                                   learning_rate = xgb_params.learning_rate,\n",
    "                                  max_depth = xgb_params.max_depth)"
   ]
  },
  {
   "cell_type": "code",
   "execution_count": 19,
   "id": "399d438a-f41d-438d-be96-015abf37e877",
   "metadata": {},
   "outputs": [
    {
     "name": "stdout",
     "output_type": "stream",
     "text": [
      "0.8968233074459216\n"
     ]
    }
   ],
   "source": [
    "xgb_classifier.fit(X_train, y_train)\n",
    "y_pred = xgb_classifier.predict(X_test)\n",
    "y_pred_train = xgb_classifier.predict(X_train)\n",
    "\n",
    "accuracy_train = accuracy_score(y_train, y_pred_train)\n",
    "print(accuracy_train)"
   ]
  },
  {
   "cell_type": "code",
   "execution_count": 20,
   "id": "a96a7d77-0e51-4e35-aacc-c30e4f21f308",
   "metadata": {},
   "outputs": [],
   "source": [
    "precision = precision_score(y_test, y_pred)\n",
    "recall = recall_score(y_test, y_pred)\n",
    "f_score = f1_score(y_test, y_pred)\n",
    "accuracy = accuracy_score(y_test, y_pred)\n",
    "auc = roc_auc_score(y_test,y_pred)\n",
    "\n",
    "metrics = {'Precision': precision, 'Recall': recall, 'f1_score': f_score, 'AUC': auc, 'accuracy': accuracy}"
   ]
  },
  {
   "cell_type": "code",
   "execution_count": 21,
   "id": "498d8e82-8b2d-4343-8acb-aa50449dd065",
   "metadata": {},
   "outputs": [
    {
     "data": {
      "text/html": [
       "<div>\n",
       "<style scoped>\n",
       "    .dataframe tbody tr th:only-of-type {\n",
       "        vertical-align: middle;\n",
       "    }\n",
       "\n",
       "    .dataframe tbody tr th {\n",
       "        vertical-align: top;\n",
       "    }\n",
       "\n",
       "    .dataframe thead th {\n",
       "        text-align: right;\n",
       "    }\n",
       "</style>\n",
       "<table border=\"1\" class=\"dataframe\">\n",
       "  <thead>\n",
       "    <tr style=\"text-align: right;\">\n",
       "      <th></th>\n",
       "      <th>precision</th>\n",
       "      <th>recall</th>\n",
       "      <th>f1-score</th>\n",
       "      <th>support</th>\n",
       "    </tr>\n",
       "  </thead>\n",
       "  <tbody>\n",
       "    <tr>\n",
       "      <th>0.0</th>\n",
       "      <td>0.928197</td>\n",
       "      <td>0.826458</td>\n",
       "      <td>0.874378</td>\n",
       "      <td>12435.000000</td>\n",
       "    </tr>\n",
       "    <tr>\n",
       "      <th>1.0</th>\n",
       "      <td>0.585717</td>\n",
       "      <td>0.793292</td>\n",
       "      <td>0.673882</td>\n",
       "      <td>3846.000000</td>\n",
       "    </tr>\n",
       "    <tr>\n",
       "      <th>accuracy</th>\n",
       "      <td>0.818623</td>\n",
       "      <td>0.818623</td>\n",
       "      <td>0.818623</td>\n",
       "      <td>0.818623</td>\n",
       "    </tr>\n",
       "    <tr>\n",
       "      <th>macro avg</th>\n",
       "      <td>0.756957</td>\n",
       "      <td>0.809875</td>\n",
       "      <td>0.774130</td>\n",
       "      <td>16281.000000</td>\n",
       "    </tr>\n",
       "    <tr>\n",
       "      <th>weighted avg</th>\n",
       "      <td>0.847294</td>\n",
       "      <td>0.818623</td>\n",
       "      <td>0.827015</td>\n",
       "      <td>16281.000000</td>\n",
       "    </tr>\n",
       "  </tbody>\n",
       "</table>\n",
       "</div>"
      ],
      "text/plain": [
       "              precision    recall  f1-score       support\n",
       "0.0            0.928197  0.826458  0.874378  12435.000000\n",
       "1.0            0.585717  0.793292  0.673882   3846.000000\n",
       "accuracy       0.818623  0.818623  0.818623      0.818623\n",
       "macro avg      0.756957  0.809875  0.774130  16281.000000\n",
       "weighted avg   0.847294  0.818623  0.827015  16281.000000"
      ]
     },
     "execution_count": 21,
     "metadata": {},
     "output_type": "execute_result"
    }
   ],
   "source": [
    "report = classification_report(y_test, y_pred, output_dict=True)\n",
    "df = pd.DataFrame(report).transpose()\n",
    "df "
   ]
  },
  {
   "cell_type": "code",
   "execution_count": 22,
   "id": "222775f6-22ab-4f3a-b364-4ca71a5403a2",
   "metadata": {},
   "outputs": [
    {
     "name": "stdout",
     "output_type": "stream",
     "text": [
      "              precision    recall  f1-score   support\n",
      "\n",
      "         0.0       0.92      0.87      0.89     22791\n",
      "         1.0       0.88      0.92      0.90     22791\n",
      "\n",
      "    accuracy                           0.90     45582\n",
      "   macro avg       0.90      0.90      0.90     45582\n",
      "weighted avg       0.90      0.90      0.90     45582\n",
      "\n",
      "              precision    recall  f1-score   support\n",
      "\n",
      "         0.0       0.93      0.83      0.87     12435\n",
      "         1.0       0.59      0.79      0.67      3846\n",
      "\n",
      "    accuracy                           0.82     16281\n",
      "   macro avg       0.76      0.81      0.77     16281\n",
      "weighted avg       0.85      0.82      0.83     16281\n",
      "\n"
     ]
    }
   ],
   "source": [
    "print(classification_report(y_train,y_pred_train))\n",
    "print(classification_report(y_test,y_pred))"
   ]
  },
  {
   "cell_type": "code",
   "execution_count": 23,
   "id": "919f8f2a-8fca-4855-8f4b-253570789f9a",
   "metadata": {},
   "outputs": [
    {
     "name": "stdout",
     "output_type": "stream",
     "text": [
      "0.8098746555411072\n",
      "0.5\n"
     ]
    }
   ],
   "source": [
    "xgboost_auc=roc_auc_score(y_test,y_pred)\n",
    "r_probs = [0 for _ in range(len(y_test))]\n",
    "random_auc = roc_auc_score(y_test, r_probs)\n",
    "print(xgboost_auc)\n",
    "print(random_auc)"
   ]
  },
  {
   "cell_type": "code",
   "execution_count": 24,
   "id": "b18079e6-6078-4d3c-914d-af5f4e2c812a",
   "metadata": {},
   "outputs": [],
   "source": [
    "probs = xgb_classifier.predict_proba(X_test)\n",
    "# Keep probabilities for one class\n",
    "probs = probs[:,1]\n",
    "\n",
    "# Get false and True positive rate\n",
    "r_fpr, r_tpr, _ = roc_curve(y_test,probs)\n",
    "x = np.arange(0,1.01,0.01)"
   ]
  },
  {
   "cell_type": "code",
   "execution_count": 25,
   "id": "d6a44940-8fdb-4aec-8bf2-a2f3a4d702dd",
   "metadata": {},
   "outputs": [
    {
     "data": {
      "image/png": "[encoded data removed]",
      "text/plain": [
       "<Figure size 640x480 with 1 Axes>"
      ]
     },
     "metadata": {},
     "output_type": "display_data"
    }
   ],
   "source": [
    "plt.plot(r_fpr, r_tpr, label='XGBoost (AUROC = %0.3f)' % xgboost_auc)\n",
    "plt.plot(x,x, linestyle='--', label='Random prediction (AUROC = %0.3f)' % random_auc)\n",
    "plt.legend()\n",
    "plt.title('ROC CURVE')\n",
    "plt.xlabel('False Positive Rate')\n",
    "plt.ylabel('True Positive Rate')\n",
    "plt.savefig(f'visualization/roc_curve{xgboost_auc}.png')\n",
    "plt.show()"
   ]
  },
  {
   "cell_type": "code",
   "execution_count": 26,
   "id": "ee67be92-8b7f-4d40-9e0e-c67f2f9bd960",
   "metadata": {},
   "outputs": [
    {
     "name": "stderr",
     "output_type": "stream",
     "text": [
      "C:\\Users\\Windows 10\\.conda\\envs\\tensorflow_env\\lib\\site-packages\\mlflow\\data\\dataset_source_registry.py:150: UserWarning: The specified dataset source can be interpreted in multiple ways: LocalArtifactDatasetSource, LocalArtifactDatasetSource. MLflow will assume that this is a LocalArtifactDatasetSource source.\n",
      "  return _dataset_source_registry.resolve(\n",
      "C:\\Users\\Windows 10\\.conda\\envs\\tensorflow_env\\lib\\site-packages\\mlflow\\data\\dataset_source_registry.py:150: UserWarning: The specified dataset source can be interpreted in multiple ways: LocalArtifactDatasetSource, LocalArtifactDatasetSource. MLflow will assume that this is a LocalArtifactDatasetSource source.\n",
      "  return _dataset_source_registry.resolve(\n"
     ]
    }
   ],
   "source": [
    "# Construct an MLflow PandasDataset from the Pandas DataFrame, and specify the source\n",
    "train_dataset: PandasDataset = mlflow.data.from_pandas(train, source= 'data/train1.csv')\n",
    "# test\n",
    "test_dataset: PandasDataset = mlflow.data.from_pandas(test, source= 'data/test1.csv')"
   ]
  },
  {
   "cell_type": "code",
   "execution_count": 27,
   "id": "112618b9-89ac-4af7-a341-96a255ae2481",
   "metadata": {},
   "outputs": [
    {
     "name": "stderr",
     "output_type": "stream",
     "text": [
      "C:\\Users\\Windows 10\\.conda\\envs\\tensorflow_env\\lib\\site-packages\\xgboost\\core.py:160: UserWarning: [13:06:14] WARNING: C:\\buildkite-agent\\builds\\buildkite-windows-cpu-autoscaling-group-i-0b3782d1791676daf-1\\xgboost\\xgboost-ci-windows\\src\\c_api\\c_api.cc:1240: Saving into deprecated binary model format, please consider using `json` or `ubj`. Model format will default to JSON in XGBoost 2.2 if not specified.\n",
      "  warnings.warn(smsg, UserWarning)\n",
      "C:\\Users\\Windows 10\\.conda\\envs\\tensorflow_env\\lib\\site-packages\\_distutils_hack\\__init__.py:33: UserWarning: Setuptools is replacing distutils.\n",
      "  warnings.warn(\"Setuptools is replacing distutils.\")\n",
      "Registered model 'xgboost' already exists. Creating a new version of this model...\n",
      "2024/03/21 13:06:22 INFO mlflow.store.model_registry.abstract_store: Waiting up to 300 seconds for model version to finish creation. Model name: xgboost, version 10\n",
      "Created version '10' of model 'xgboost'.\n"
     ]
    }
   ],
   "source": [
    "\n",
    "mlflow.set_tracking_uri('http://localhost:5000')\n",
    "\n",
    "mlflow.set_experiment(\"XGBOOST EXPERIMENTS\")\n",
    "\n",
    "with mlflow.start_run() as run:\n",
    "    mlflow.log_params(xgb_params)\n",
    "    mlflow.log_metrics(metrics)\n",
    "    \n",
    "    # Set a tag that we can use to remind ourselves what this run was for\n",
    "    mlflow.set_tag(\"Some Columns\", \"no race, education, fnlwgt undersampling and over sampling\")\n",
    "    \n",
    "    # Log the dataset to the MLflow Run. Specify the \"training\" context to indicate that the\n",
    "    # dataset is used for model training\n",
    "    mlflow.log_input(train_dataset, context=\"training\")\n",
    "    mlflow.log_input(test_dataset, context = \"testing\")\n",
    "    mlflow.log_artifact(f'visualization/roc_curve{xgboost_auc}.png')\n",
    "\n",
    "    \n",
    "    # Infer the model signature\n",
    "    signature = infer_signature(X_train, y_pred_train)\n",
    "    \n",
    "    # Log the model\n",
    "    model_info = mlflow.xgboost.log_model(\n",
    "        xgb_model= xgb_classifier,\n",
    "        artifact_path = \"income_class\",\n",
    "        signature = signature,\n",
    "        input_example = X_train,\n",
    "        registered_model_name = \"xgboost\",\n",
    "    )\n"
   ]
  },
  {
   "cell_type": "code",
   "execution_count": 29,
   "id": "0e2eefad-d054-466a-9a31-cf267bfc26b3",
   "metadata": {},
   "outputs": [
    {
     "name": "stdout",
     "output_type": "stream",
     "text": [
      "Inference successful!\n",
      "{'predictions': [0, 1, 0, 1, 0, 0, 0, 1, 0, 0]}\n"
     ]
    }
   ],
   "source": [
    "import requests\n",
    "import pandas as pd  # Make sure you have pandas installed\n",
    "\n",
    "# Assuming X_test is a pandas DataFrame\n",
    "lst = X_test[:10].to_dict(orient=\"records\")  # Convert DataFrame to a list of dictionaries\n",
    "inference_request = {\n",
    "    \"inputs\": lst\n",
    "}\n",
    "endpoint = \"http://localhost:1234/invocations\"\n",
    "response = requests.post(endpoint, json=inference_request)\n",
    "\n",
    "if response.status_code == 200:\n",
    "    print(\"Inference successful!\")\n",
    "    print(response.json())\n",
    "else:\n",
    "    print(f\"Error: {response.status_code} - {response.text}\")\n"
   ]
  },
  {
   "cell_type": "code",
   "execution_count": 30,
   "id": "9cd66886-a717-4985-a824-9c90543f593f",
   "metadata": {},
   "outputs": [
    {
     "data": {
      "text/plain": [
       "0    0.0\n",
       "1    0.0\n",
       "2    1.0\n",
       "3    1.0\n",
       "4    0.0\n",
       "5    0.0\n",
       "6    0.0\n",
       "7    1.0\n",
       "8    0.0\n",
       "9    0.0\n",
       "Name: income, dtype: float64"
      ]
     },
     "execution_count": 30,
     "metadata": {},
     "output_type": "execute_result"
    }
   ],
   "source": [
    "y_test[:10]"
   ]
  },
  {
   "cell_type": "markdown",
   "id": "734fd214-1292-4270-9593-9ecf1c4a72ce",
   "metadata": {},
   "source": [
    "## DNN"
   ]
  },
  {
   "cell_type": "code",
   "execution_count": 28,
   "id": "beb1493e-160c-4017-9d9d-37b3ff399f74",
   "metadata": {},
   "outputs": [
    {
     "data": {
      "text/plain": [
       "11"
      ]
     },
     "execution_count": 28,
     "metadata": {},
     "output_type": "execute_result"
    }
   ],
   "source": [
    "num_train_examples, input_dim = X_train.shape\n",
    "input_dim"
   ]
  },
  {
   "cell_type": "code",
   "execution_count": 44,
   "id": "91d76baf-a409-44a9-a709-174f1514423e",
   "metadata": {},
   "outputs": [],
   "source": [
    "batch_size = 128\n",
    "num_train_examples, input_dim = X_train.shape\n",
    "# Number of times to pass through data\n",
    "num_epcohs = 20\n",
    "\n",
    "input = tf.keras.Input(shape=(11,))\n",
    "#x = tf.keras.layers.concatenate(input)\n",
    "x = tf.keras.layers.Dense(100, activation='relu', kernel_initializer= 'uniform')(input)\n",
    "x = tf.keras.layers.Dense(75, activation='relu')(x)\n",
    "x = tf.keras.layers.Dense(50, activation='relu')(x)\n",
    "x = tf.keras.layers.Dense(25, activation='relu')(x)\n",
    "output = tf.keras.layers.Dense(1, activation='sigmoid')(x)\n",
    "\n",
    "model = tf.keras.Model(inputs = input, outputs= output)"
   ]
  },
  {
   "cell_type": "code",
   "execution_count": 45,
   "id": "f7a12155-7821-4022-9aaf-8a9c2c8cebaf",
   "metadata": {},
   "outputs": [
    {
     "name": "stderr",
     "output_type": "stream",
     "text": [
      "WARNING:absl:`lr` is deprecated in Keras optimizer, please use `learning_rate` or use the legacy optimizer, e.g.,tf.keras.optimizers.legacy.RMSprop.\n"
     ]
    }
   ],
   "source": [
    "learning_rate = .01\n",
    "\n",
    "# Optimizer\n",
    "optimizer = tf.keras.optimizers.RMSprop(lr=learning_rate)\n",
    "# Compile Keras model\n",
    "model.compile(loss='binary_crossentropy', optimizer=optimizer, metrics=['accuracy'])"
   ]
  },
  {
   "cell_type": "code",
   "execution_count": 46,
   "id": "cd0ef06b-8d18-4629-86b9-4e9897cc7fd5",
   "metadata": {},
   "outputs": [],
   "source": [
    "# Setup Learning Rate decay.\n",
    "lr_decay_cb = tf.keras.callbacks.LearningRateScheduler(\n",
    "    lambda epoch: learning_rate + 0.02 * (0.5 ** (1 + epoch)),\n",
    "    verbose=True\n",
    ")"
   ]
  },
  {
   "cell_type": "code",
   "execution_count": 48,
   "id": "8de21165-a006-45f8-998d-6b4ae19ac3cc",
   "metadata": {},
   "outputs": [
    {
     "name": "stdout",
     "output_type": "stream",
     "text": [
      "\n",
      "Epoch 1: LearningRateScheduler setting learning rate to 0.02.\n",
      "Epoch 1/20\n",
      "357/357 [==============================] - 2s 4ms/step - loss: 0.3942 - accuracy: 0.8198 - lr: 0.0200\n",
      "\n",
      "Epoch 2: LearningRateScheduler setting learning rate to 0.015.\n",
      "Epoch 2/20\n",
      "357/357 [==============================] - 1s 4ms/step - loss: 0.3713 - accuracy: 0.8320 - lr: 0.0150\n",
      "\n",
      "Epoch 3: LearningRateScheduler setting learning rate to 0.0125.\n",
      "Epoch 3/20\n",
      "357/357 [==============================] - 1s 3ms/step - loss: 0.3628 - accuracy: 0.8369 - lr: 0.0125\n",
      "\n",
      "Epoch 4: LearningRateScheduler setting learning rate to 0.01125.\n",
      "Epoch 4/20\n",
      "357/357 [==============================] - 1s 4ms/step - loss: 0.3595 - accuracy: 0.8382 - lr: 0.0113\n",
      "\n",
      "Epoch 5: LearningRateScheduler setting learning rate to 0.010625.\n",
      "Epoch 5/20\n",
      "357/357 [==============================] - 1s 4ms/step - loss: 0.3567 - accuracy: 0.8401 - lr: 0.0106\n",
      "\n",
      "Epoch 6: LearningRateScheduler setting learning rate to 0.0103125.\n",
      "Epoch 6/20\n",
      "357/357 [==============================] - 1s 4ms/step - loss: 0.3544 - accuracy: 0.8409 - lr: 0.0103\n",
      "\n",
      "Epoch 7: LearningRateScheduler setting learning rate to 0.01015625.\n",
      "Epoch 7/20\n",
      "357/357 [==============================] - 2s 5ms/step - loss: 0.3522 - accuracy: 0.8429 - lr: 0.0102\n",
      "\n",
      "Epoch 8: LearningRateScheduler setting learning rate to 0.010078125.\n",
      "Epoch 8/20\n",
      "357/357 [==============================] - 2s 5ms/step - loss: 0.3511 - accuracy: 0.8442 - lr: 0.0101\n",
      "\n",
      "Epoch 9: LearningRateScheduler setting learning rate to 0.0100390625.\n",
      "Epoch 9/20\n",
      "357/357 [==============================] - 2s 4ms/step - loss: 0.3492 - accuracy: 0.8457 - lr: 0.0100\n",
      "\n",
      "Epoch 10: LearningRateScheduler setting learning rate to 0.01001953125.\n",
      "Epoch 10/20\n",
      "357/357 [==============================] - 2s 5ms/step - loss: 0.3483 - accuracy: 0.8441 - lr: 0.0100\n",
      "\n",
      "Epoch 11: LearningRateScheduler setting learning rate to 0.010009765625.\n",
      "Epoch 11/20\n",
      "357/357 [==============================] - 1s 4ms/step - loss: 0.3480 - accuracy: 0.8448 - lr: 0.0100\n",
      "\n",
      "Epoch 12: LearningRateScheduler setting learning rate to 0.010004882812500001.\n",
      "Epoch 12/20\n",
      "357/357 [==============================] - 1s 4ms/step - loss: 0.3467 - accuracy: 0.8458 - lr: 0.0100\n",
      "\n",
      "Epoch 13: LearningRateScheduler setting learning rate to 0.01000244140625.\n",
      "Epoch 13/20\n",
      "357/357 [==============================] - 2s 5ms/step - loss: 0.3460 - accuracy: 0.8457 - lr: 0.0100\n",
      "\n",
      "Epoch 14: LearningRateScheduler setting learning rate to 0.010001220703125.\n",
      "Epoch 14/20\n",
      "357/357 [==============================] - 2s 4ms/step - loss: 0.3449 - accuracy: 0.8459 - lr: 0.0100\n",
      "\n",
      "Epoch 15: LearningRateScheduler setting learning rate to 0.0100006103515625.\n",
      "Epoch 15/20\n",
      "357/357 [==============================] - 2s 5ms/step - loss: 0.3446 - accuracy: 0.8461 - lr: 0.0100\n",
      "\n",
      "Epoch 16: LearningRateScheduler setting learning rate to 0.01000030517578125.\n",
      "Epoch 16/20\n",
      "357/357 [==============================] - 2s 5ms/step - loss: 0.3444 - accuracy: 0.8460 - lr: 0.0100\n",
      "\n",
      "Epoch 17: LearningRateScheduler setting learning rate to 0.010000152587890625.\n",
      "Epoch 17/20\n",
      "357/357 [==============================] - 2s 5ms/step - loss: 0.3428 - accuracy: 0.8471 - lr: 0.0100\n",
      "\n",
      "Epoch 18: LearningRateScheduler setting learning rate to 0.010000076293945313.\n",
      "Epoch 18/20\n",
      "357/357 [==============================] - 1s 4ms/step - loss: 0.3445 - accuracy: 0.8466 - lr: 0.0100\n",
      "\n",
      "Epoch 19: LearningRateScheduler setting learning rate to 0.010000038146972657.\n",
      "Epoch 19/20\n",
      "357/357 [==============================] - 1s 4ms/step - loss: 0.3431 - accuracy: 0.8458 - lr: 0.0100\n",
      "\n",
      "Epoch 20: LearningRateScheduler setting learning rate to 0.010000019073486329.\n",
      "Epoch 20/20\n",
      "357/357 [==============================] - 2s 4ms/step - loss: 0.3424 - accuracy: 0.8478 - lr: 0.0100\n"
     ]
    },
    {
     "data": {
      "text/plain": [
       "<keras.src.callbacks.History at 0x2d1ab3488e0>"
      ]
     },
     "execution_count": 48,
     "metadata": {},
     "output_type": "execute_result"
    }
   ],
   "source": [
    "model.fit(\n",
    "    X_train,\n",
    "    y_train,\n",
    "    epochs = num_epcohs,\n",
    "    batch_size= 128,\n",
    "    steps_per_epoch=int(num_train_examples / batch_size),\n",
    "    callbacks = [lr_decay_cb]  \n",
    ")\n"
   ]
  },
  {
   "cell_type": "code",
   "execution_count": 50,
   "id": "c2d8b335-77a4-446a-873f-b33dbc1d2d85",
   "metadata": {},
   "outputs": [
    {
     "name": "stdout",
     "output_type": "stream",
     "text": [
      "509/509 [==============================] - 1s 3ms/step\n"
     ]
    }
   ],
   "source": [
    "y_pred = model.predict(X_test)"
   ]
  },
  {
   "cell_type": "code",
   "execution_count": 90,
   "id": "96925582-463a-43f8-9ff0-da1a28baece1",
   "metadata": {},
   "outputs": [],
   "source": [
    "classes = y_pred > 0.5"
   ]
  },
  {
   "cell_type": "code",
   "execution_count": 91,
   "id": "c734f4d5-c4a2-4562-9a9c-f7263ebae2ab",
   "metadata": {},
   "outputs": [
    {
     "data": {
      "text/plain": [
       "0.7873594988022848"
      ]
     },
     "execution_count": 91,
     "metadata": {},
     "output_type": "execute_result"
    }
   ],
   "source": [
    "accuracy_score(y_test, classes)"
   ]
  },
  {
   "cell_type": "code",
   "execution_count": 92,
   "id": "68f6fc3b-cdad-41ba-aca2-e851a79d7115",
   "metadata": {},
   "outputs": [
    {
     "data": {
      "text/plain": [
       "0.8132042000618505"
      ]
     },
     "execution_count": 92,
     "metadata": {},
     "output_type": "execute_result"
    }
   ],
   "source": [
    "roc_auc_score(y_test, classes)"
   ]
  },
  {
   "cell_type": "code",
   "execution_count": 93,
   "id": "0b990bd8-421e-4899-9ef4-58bd826d33bf",
   "metadata": {},
   "outputs": [
    {
     "data": {
      "text/plain": [
       "0.657023974638399"
      ]
     },
     "execution_count": 93,
     "metadata": {},
     "output_type": "execute_result"
    }
   ],
   "source": [
    "f1_score(y_test, classes)"
   ]
  },
  {
   "cell_type": "code",
   "execution_count": 58,
   "id": "7d7ae9e8-104a-4b45-b67f-ca227c0b71d5",
   "metadata": {},
   "outputs": [
    {
     "name": "stdout",
     "output_type": "stream",
     "text": [
      "0.5\n"
     ]
    }
   ],
   "source": [
    "r_probs = [0 for _ in range(len(y_test))]\n",
    "random_auc = roc_auc_score(y_test, r_probs)\n",
    "#print(xgauc)\n",
    "print(random_auc)"
   ]
  },
  {
   "cell_type": "code",
   "execution_count": 2,
   "id": "858200e4-3887-4dad-a043-a5136c74badf",
   "metadata": {},
   "outputs": [],
   "source": [
    "# Set tracking uri\n",
    "mlflow.set_tracking_uri('http://localhost:5000')\n",
    "\n",
    "# Get the model uri you need\n",
    "model_uri = 'runs:/97c3446b013742c6988f0ab7eeb5f304/income_class'"
   ]
  },
  {
   "cell_type": "code",
   "execution_count": 3,
   "id": "ccc2f8e6-666c-49fc-8071-710c03ab533b",
   "metadata": {},
   "outputs": [],
   "source": [
    "# Load the model using mlflow.xgboost.load_model\n",
    "loaded_model = mlflow.xgboost.load_model(model_uri)"
   ]
  },
  {
   "cell_type": "code",
   "execution_count": 5,
   "id": "49f40ad6-96ba-45f5-b3b2-f16c69af002d",
   "metadata": {},
   "outputs": [],
   "source": [
    "\n",
    "# While not directly recommended for deployment due to limitations,\n",
    "# you can use pickle for temporary use or exploration (avoid for production)\n",
    "# But I will be using it here\n",
    "import pickle\n",
    "with open(\"income-pred/app/income.pkl\", \"wb\") as f:\n",
    "    pickle.dump(loaded_model, f)"
   ]
  },
  {
   "cell_type": "code",
   "execution_count": null,
   "id": "10af2e57-2e84-444c-b974-882fc54f57b0",
   "metadata": {},
   "outputs": [],
   "source": []
  },
  {
   "cell_type": "markdown",
   "id": "5459d7ba-9bbd-4292-a9d8-9f17d347a380",
   "metadata": {},
   "source": [
    "### Random Forest"
   ]
  },
  {
   "cell_type": "code",
   "execution_count": null,
   "id": "24324037-7c6f-4ab6-bf76-49766fd0034d",
   "metadata": {},
   "outputs": [],
   "source": [
    "rf=RandomForestClassifier()"
   ]
  },
  {
   "cell_type": "code",
   "execution_count": null,
   "id": "8530e1ba-e469-4395-a4b3-2bf11e3d18b7",
   "metadata": {},
   "outputs": [],
   "source": [
    "rf.fit(X_train, y_train)"
   ]
  },
  {
   "cell_type": "code",
   "execution_count": null,
   "id": "56a90761-2dc3-4882-bcf5-60b364b98d3c",
   "metadata": {},
   "outputs": [],
   "source": [
    "y_pred = rf.predict(X_test)"
   ]
  },
  {
   "cell_type": "code",
   "execution_count": null,
   "id": "28b2929a-6386-4f6e-8843-8a7f97ebf9fd",
   "metadata": {},
   "outputs": [],
   "source": [
    "print(classification_report(y_test,y_pred))"
   ]
  },
  {
   "cell_type": "code",
   "execution_count": null,
   "id": "6eaa021a-c0c8-44cd-942a-da0287a78ad0",
   "metadata": {},
   "outputs": [],
   "source": [
    "import mlflow\n",
    "from mlflow.models import infer_signature"
   ]
  },
  {
   "cell_type": "code",
   "execution_count": null,
   "id": "c7c80703-8934-48c7-a576-caf4eab8ad1d",
   "metadata": {},
   "outputs": [],
   "source": [
    "mlflow.set_tracking_uri(uri=\"http://127.0.0.1:8080\")\n",
    "\n",
    "mlflow.set_experiment(\"XGBOOST EXPERIMENTS\")\n",
    "\n",
    "with mlflow.start_run() as run:\n",
    "    mlflow.log_params(rf_params)\n",
    "    mlflow.log_metrics(rf_metrics)\n",
    "    \n",
    "    # Set a tag that we can use to remind ourselves what this run was for\n",
    "    mlflow.set_tag(\"\")\n",
    "    \n",
    "    # Infer the model signature\n",
    "    signature = infer_signature(X_train, y_pred_train)\n",
    "    \n",
    "    # Log the model\n",
    "    model_info = mlflow.xgboost.log_model(\n",
    "        xgb_model= xgb_classifier,\n",
    "        artifact_path = \"income_class\",\n",
    "        signature = signature,\n",
    "        input_example = X_train,\n",
    "        registered_model_name = \"random_forest\",\n",
    "    )\n"
   ]
  },
  {
   "cell_type": "code",
   "execution_count": null,
   "id": "3969b576-805c-4eec-adc9-0e232a8d21d4",
   "metadata": {},
   "outputs": [],
   "source": [
    "import mlflow"
   ]
  },
  {
   "cell_type": "code",
   "execution_count": null,
   "id": "13f564c1-f8bf-466c-a15d-6f50021852cc",
   "metadata": {},
   "outputs": [],
   "source": [
    "mlflow.set_tracking_uri(uri=\"http://127.0.0.1:8080\")"
   ]
  },
  {
   "cell_type": "code",
   "execution_count": null,
   "id": "12ef49dd-701b-4a72-bd7c-ce7deb01fa81",
   "metadata": {},
   "outputs": [],
   "source": []
  },
  {
   "cell_type": "code",
   "execution_count": null,
   "id": "fbea800d-4c74-4d38-8235-ded6b0e2bc3c",
   "metadata": {},
   "outputs": [],
   "source": []
  }
 ],
 "metadata": {
  "kernelspec": {
   "display_name": "Python 3 (ipykernel)",
   "language": "python",
   "name": "python3"
  },
  "language_info": {
   "codemirror_mode": {
    "name": "ipython",
    "version": 3
   },
   "file_extension": ".py",
   "mimetype": "text/x-python",
   "name": "python",
   "nbconvert_exporter": "python",
   "pygments_lexer": "ipython3",
   "version": "3.10.13"
  }
 },
 "nbformat": 4,
 "nbformat_minor": 5
}
