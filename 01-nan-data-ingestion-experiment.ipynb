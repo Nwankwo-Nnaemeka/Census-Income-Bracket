{
 "cells": [
  {
   "cell_type": "code",
   "execution_count": 9,
   "id": "538cebb1-5023-41e9-b003-fe7c861bf1a5",
   "metadata": {},
   "outputs": [],
   "source": [
    "import os\n",
    "import re\n",
    "import requests\n",
    "import zipfile\n",
    "import numpy as np\n",
    "import pandas as pd\n",
    "import seaborn as sns\n",
    "from pathlib import Path\n",
    "from box import ConfigBox\n",
    "from pydantic import BaseModel\n",
    "import matplotlib.pyplot as plt\n",
    "from box.exceptions import BoxValueError\n",
    "\n",
    "sns.set_style('darkgrid')\n",
    "%matplotlib inline"
   ]
  },
  {
   "cell_type": "code",
   "execution_count": 2,
   "id": "3bc42618-d483-40e3-a957-c580e384e082",
   "metadata": {},
   "outputs": [],
   "source": [
    "# Url for downlaoding data\n",
    "url = \"https://archive.ics.uci.edu/static/public/2/adult.zip\"\n",
    "\n",
    "# Directory to store downloaded data\n",
    "data_dir = \"data\""
   ]
  },
  {
   "cell_type": "code",
   "execution_count": 3,
   "id": "910a7d26-8e99-4af9-8d41-d87f8e25c614",
   "metadata": {},
   "outputs": [],
   "source": [
    "# yaml config file to store file paths\n",
    "config_file = \"config.yaml\""
   ]
  },
  {
   "cell_type": "code",
   "execution_count": 4,
   "id": "c670c2e3-c031-4882-81ef-d28502142f05",
   "metadata": {},
   "outputs": [
    {
     "name": "stdout",
     "output_type": "stream",
     "text": [
      "Overwriting config.yaml\n"
     ]
    }
   ],
   "source": [
    "%%writefile {config_file}\n",
    "data_ingestion:\n",
    "    # Path to store all data\n",
    "    data_dir: data\n",
    "    url: https://archive.ics.uci.edu/static/public/2/adult.zip\n",
    "    raw_zip_file: data/adult.zip\n",
    "    # Path to store files after unzipping\n",
    "    target_dir: data"
   ]
  },
  {
   "cell_type": "code",
   "execution_count": 5,
   "id": "067600ba-4443-453c-be8e-80deed952a5a",
   "metadata": {},
   "outputs": [],
   "source": [
    "utilities = \"utils.py\""
   ]
  },
  {
   "cell_type": "code",
   "execution_count": 6,
   "id": "04d5c8ea-c8ca-4b82-a26d-1ed5960c8101",
   "metadata": {},
   "outputs": [
    {
     "name": "stdout",
     "output_type": "stream",
     "text": [
      "Overwriting utils.py\n"
     ]
    }
   ],
   "source": [
    "%%writefile {utilities}\n",
    "# Read the yaml file to get paths\n",
    "import os\n",
    "import yaml\n",
    "from pathlib import Path\n",
    "from box import ConfigBox\n",
    "from box.exceptions import BoxValueError\n",
    "\n",
    "def read_yaml(path_to_yaml_file: Path)-> ConfigBox:\n",
    "    \"\"\"reads a yaml file.\n",
    "\n",
    "    Args:\n",
    "        path_to_yaml_file (str): path-like input\n",
    "\n",
    "    Raises:\n",
    "        ValueError: if yaml file is empty\n",
    "        e: empty file\n",
    "\n",
    "    Returns:\n",
    "        ConfigBox: ConfigBox type\n",
    "    \"\"\"\n",
    "    try:\n",
    "        with open(path_to_yaml_file, 'r') as file:\n",
    "            data = yaml.safe_load(file)\n",
    "            print(f\"yaml file: {path_to_yaml_file} loaded successfully\")\n",
    "    except BoxValueError:\n",
    "        raise ValueError(\"Yaml File is empty\")\n",
    "    except Exception as e:\n",
    "        raise e\n",
    "     \n",
    "    return ConfigBox(data)\n",
    "\n",
    "# Create neccessary directory(ies)\n",
    "def create_directories(directory_names: list, verbose = True ):\n",
    "    \"\"\"create list of directories\n",
    "\n",
    "    Args:\n",
    "        path_to_directories (list): list of path of directories\n",
    "        verbose (bool, optional): ignore if multiple dirs is to be created. Defaults to False.\n",
    "    \"\"\"\n",
    "    for path in directory_names:\n",
    "        os.makedirs(path, exist_ok = True)\n",
    "        if verbose:\n",
    "            print(f\"created directory at {path}\")"
   ]
  },
  {
   "cell_type": "code",
   "execution_count": 7,
   "id": "10fb9f96-0e3d-46f8-9ecd-47784eecd423",
   "metadata": {},
   "outputs": [],
   "source": [
    "from utils import *\n",
    "\n",
    "\n",
    "class DataIngestionConfigValidator(BaseModel):\n",
    "    data_dir: Path\n",
    "    url: str\n",
    "    raw_zip_file: Path #Path #data_dir:\n",
    "    target_dir: Path\n",
    "\n",
    "class DataIngestion:\n",
    "    def __init__(self, config_path):\n",
    "        self.config_path = config_path\n",
    "\n",
    "    def validate_data(self):\n",
    "        configbox = read_yaml(Path(self.config_path))\n",
    "        config = configbox.data_ingestion\n",
    "        config = DataIngestionConfigValidator(**config)\n",
    "        return config\n",
    "        \n",
    "    def download_file(self, config):\n",
    "        \"\"\"\n",
    "        Url: str\n",
    "        downloads data into a specified directory\n",
    "        config (ConfigBox): yaml file that contains file path\n",
    "\n",
    "        Returns None\n",
    "        \"\"\"\n",
    "        create_directories([config.data_dir])\n",
    "        \n",
    "        if not os.path.exists(config.raw_zip_file):\n",
    "            response = requests.get(config.url)\n",
    "            \n",
    "            with open(config.raw_zip_file, 'wb') as file:\n",
    "                file.write(response.content)\n",
    "                \n",
    "        else:\n",
    "            print(f\"File already exists in {config.raw_zip_file}\")\n",
    "        \n",
    "        \n",
    "    def unzip_file(self, config):\n",
    "        \"\"\"\n",
    "            zip_file_path: str\n",
    "            Extracts the zip file into the data directory\n",
    "            Function returns None\n",
    "            \"\"\"\n",
    "        with zipfile.ZipFile(config.raw_zip_file, 'r') as files:\n",
    "            files.extractall(config.target_dir)"
   ]
  },
  {
   "cell_type": "code",
   "execution_count": 10,
   "id": "205259fd-ac60-42a0-a3a1-fda0876a36e1",
   "metadata": {},
   "outputs": [
    {
     "name": "stdout",
     "output_type": "stream",
     "text": [
      "yaml file: config.yaml loaded successfully\n",
      "created directory at data\n",
      "File already exists in data\\adult.zip\n"
     ]
    }
   ],
   "source": [
    "data = DataIngestion(\"config.yaml\")\n",
    "config = data.validate_data() \n",
    "data.download_file(config)\n",
    "data.unzip_file(config)"
   ]
  },
  {
   "cell_type": "code",
   "execution_count": 4,
   "id": "1190edc5-f06e-47b5-964e-8ebce5c086ee",
   "metadata": {},
   "outputs": [],
   "source": [
    "ingestion_utils = \"data_ingestion/ingestion.py\""
   ]
  },
  {
   "cell_type": "code",
   "execution_count": 6,
   "id": "f1c417f7-97c6-4134-afb7-af29a01ca300",
   "metadata": {},
   "outputs": [
    {
     "name": "stdout",
     "output_type": "stream",
     "text": [
      "Overwriting data_ingestion/ingestion.py\n"
     ]
    }
   ],
   "source": [
    "%%writefile {ingestion_utils}\n",
    "import requests\n",
    "import zipfile\n",
    "from utils import *\n",
    "class DataIngestionConfigValidator(BaseModel):\n",
    "    data_dir: Path\n",
    "    url: str\n",
    "    raw_zip_file: Path #Path #data_dir:\n",
    "    target_dir: Path\n",
    "\n",
    "class DataIngestion:\n",
    "    def __init__(self, config_path):\n",
    "        self.config_path = config_path\n",
    "\n",
    "    def validate_data(self):\n",
    "        configbox = read_yaml(Path(self.config_path))\n",
    "        config = configbox.data_ingestion\n",
    "        config = DataIngestionConfigValidator(**config)\n",
    "        return config\n",
    "        \n",
    "    def download_file(self, config):\n",
    "        \"\"\"\n",
    "        Url: str\n",
    "        downloads data into a specified directory\n",
    "        config (ConfigBox): yaml file that contains file path\n",
    "\n",
    "        Returns None\n",
    "        \"\"\"\n",
    "        create_directories([config.data_dir])\n",
    "        \n",
    "        if not os.path.exists(config.raw_zip_file):\n",
    "            response = requests.get(config.url)\n",
    "            \n",
    "            with open(config.raw_zip_file, 'wb') as file:\n",
    "                file.write(response.content)\n",
    "                \n",
    "        else:\n",
    "            print(f\"File already exists in {config.raw_zip_file}\")\n",
    "        \n",
    "        \n",
    "    def unzip_file(self, config):\n",
    "        \"\"\"\n",
    "            zip_file_path: str\n",
    "            Extracts the zip file into the data directory\n",
    "            Function returns None\n",
    "            \"\"\"\n",
    "        with zipfile.ZipFile(config.raw_zip_file, 'r') as files:\n",
    "            files.extractall(config.target_dir)"
   ]
  },
  {
   "cell_type": "code",
   "execution_count": null,
   "id": "1dfd8efa-1543-446b-93f0-38d18a6cdb19",
   "metadata": {},
   "outputs": [],
   "source": []
  }
 ],
 "metadata": {
  "kernelspec": {
   "display_name": "Python 3 (ipykernel)",
   "language": "python",
   "name": "python3"
  },
  "language_info": {
   "codemirror_mode": {
    "name": "ipython",
    "version": 3
   },
   "file_extension": ".py",
   "mimetype": "text/x-python",
   "name": "python",
   "nbconvert_exporter": "python",
   "pygments_lexer": "ipython3",
   "version": "3.10.13"
  }
 },
 "nbformat": 4,
 "nbformat_minor": 5
}
