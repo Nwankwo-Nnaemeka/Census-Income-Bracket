{
 "cells": [
  {
   "cell_type": "code",
   "execution_count": 30,
   "id": "d6ee3f99-5d76-4ee1-9992-161ea40a1120",
   "metadata": {},
   "outputs": [
    {
     "name": "stdout",
     "output_type": "stream",
     "text": [
      "TFDV Version: 1.14.0\n",
      "Tensorflow Version: 2.15.0\n"
     ]
    }
   ],
   "source": [
    "import numpy as np\n",
    "import pandas as pd\n",
    "import tensorflow as tf\n",
    "import tensorflow_data_validation as tfdv\n",
    "\n",
    "from tensorflow_metadata.proto.v0 import schema_pb2\n",
    "\n",
    "print('TFDV Version: {}'.format(tfdv.__version__))\n",
    "print('Tensorflow Version: {}'.format(tf.__version__))"
   ]
  },
  {
   "cell_type": "code",
   "execution_count": 20,
   "id": "a97fd7d2-15d6-446c-b267-f8a934eb1b24",
   "metadata": {},
   "outputs": [],
   "source": [
    "train_df = pd.read_csv(\"data/train_cleaned.csv\")\n",
    "test_df = pd.read_csv(\"data/test_cleaned.csv\")"
   ]
  },
  {
   "cell_type": "code",
   "execution_count": 21,
   "id": "a064e974-1b9c-4134-a708-e319be3ae9eb",
   "metadata": {},
   "outputs": [
    {
     "data": {
      "text/html": [
       "<div>\n",
       "<style scoped>\n",
       "    .dataframe tbody tr th:only-of-type {\n",
       "        vertical-align: middle;\n",
       "    }\n",
       "\n",
       "    .dataframe tbody tr th {\n",
       "        vertical-align: top;\n",
       "    }\n",
       "\n",
       "    .dataframe thead th {\n",
       "        text-align: right;\n",
       "    }\n",
       "</style>\n",
       "<table border=\"1\" class=\"dataframe\">\n",
       "  <thead>\n",
       "    <tr style=\"text-align: right;\">\n",
       "      <th></th>\n",
       "      <th>age</th>\n",
       "      <th>workclass</th>\n",
       "      <th>fnlwgt</th>\n",
       "      <th>education</th>\n",
       "      <th>education_num</th>\n",
       "      <th>marital_status</th>\n",
       "      <th>occupation</th>\n",
       "      <th>relationship</th>\n",
       "      <th>race</th>\n",
       "      <th>sex</th>\n",
       "      <th>capital_gain</th>\n",
       "      <th>capital_loss</th>\n",
       "      <th>hours_per_week</th>\n",
       "      <th>native_country</th>\n",
       "      <th>income</th>\n",
       "    </tr>\n",
       "  </thead>\n",
       "  <tbody>\n",
       "    <tr>\n",
       "      <th>0</th>\n",
       "      <td>39</td>\n",
       "      <td>State-gov</td>\n",
       "      <td>77516</td>\n",
       "      <td>Bachelors</td>\n",
       "      <td>13</td>\n",
       "      <td>Never-married</td>\n",
       "      <td>Adm-clerical</td>\n",
       "      <td>Not-in-family</td>\n",
       "      <td>White</td>\n",
       "      <td>Male</td>\n",
       "      <td>2174</td>\n",
       "      <td>0</td>\n",
       "      <td>40</td>\n",
       "      <td>United-States</td>\n",
       "      <td>&lt;=50K</td>\n",
       "    </tr>\n",
       "    <tr>\n",
       "      <th>1</th>\n",
       "      <td>50</td>\n",
       "      <td>Self-emp-not-inc</td>\n",
       "      <td>83311</td>\n",
       "      <td>Bachelors</td>\n",
       "      <td>13</td>\n",
       "      <td>Married-civ-spouse</td>\n",
       "      <td>Exec-managerial</td>\n",
       "      <td>Husband</td>\n",
       "      <td>White</td>\n",
       "      <td>Male</td>\n",
       "      <td>0</td>\n",
       "      <td>0</td>\n",
       "      <td>13</td>\n",
       "      <td>United-States</td>\n",
       "      <td>&lt;=50K</td>\n",
       "    </tr>\n",
       "    <tr>\n",
       "      <th>2</th>\n",
       "      <td>38</td>\n",
       "      <td>Private</td>\n",
       "      <td>215646</td>\n",
       "      <td>HS-grad</td>\n",
       "      <td>9</td>\n",
       "      <td>Divorced</td>\n",
       "      <td>Handlers-cleaners</td>\n",
       "      <td>Not-in-family</td>\n",
       "      <td>White</td>\n",
       "      <td>Male</td>\n",
       "      <td>0</td>\n",
       "      <td>0</td>\n",
       "      <td>40</td>\n",
       "      <td>United-States</td>\n",
       "      <td>&lt;=50K</td>\n",
       "    </tr>\n",
       "    <tr>\n",
       "      <th>3</th>\n",
       "      <td>53</td>\n",
       "      <td>Private</td>\n",
       "      <td>234721</td>\n",
       "      <td>11th</td>\n",
       "      <td>7</td>\n",
       "      <td>Married-civ-spouse</td>\n",
       "      <td>Handlers-cleaners</td>\n",
       "      <td>Husband</td>\n",
       "      <td>Black</td>\n",
       "      <td>Male</td>\n",
       "      <td>0</td>\n",
       "      <td>0</td>\n",
       "      <td>40</td>\n",
       "      <td>United-States</td>\n",
       "      <td>&lt;=50K</td>\n",
       "    </tr>\n",
       "    <tr>\n",
       "      <th>4</th>\n",
       "      <td>28</td>\n",
       "      <td>Private</td>\n",
       "      <td>338409</td>\n",
       "      <td>Bachelors</td>\n",
       "      <td>13</td>\n",
       "      <td>Married-civ-spouse</td>\n",
       "      <td>Prof-specialty</td>\n",
       "      <td>Wife</td>\n",
       "      <td>Black</td>\n",
       "      <td>Female</td>\n",
       "      <td>0</td>\n",
       "      <td>0</td>\n",
       "      <td>40</td>\n",
       "      <td>Cuba</td>\n",
       "      <td>&lt;=50K</td>\n",
       "    </tr>\n",
       "  </tbody>\n",
       "</table>\n",
       "</div>"
      ],
      "text/plain": [
       "   age         workclass  fnlwgt  education  education_num  \\\n",
       "0   39         State-gov   77516  Bachelors             13   \n",
       "1   50  Self-emp-not-inc   83311  Bachelors             13   \n",
       "2   38           Private  215646    HS-grad              9   \n",
       "3   53           Private  234721       11th              7   \n",
       "4   28           Private  338409  Bachelors             13   \n",
       "\n",
       "       marital_status         occupation   relationship   race     sex  \\\n",
       "0       Never-married       Adm-clerical  Not-in-family  White    Male   \n",
       "1  Married-civ-spouse    Exec-managerial        Husband  White    Male   \n",
       "2            Divorced  Handlers-cleaners  Not-in-family  White    Male   \n",
       "3  Married-civ-spouse  Handlers-cleaners        Husband  Black    Male   \n",
       "4  Married-civ-spouse     Prof-specialty           Wife  Black  Female   \n",
       "\n",
       "   capital_gain  capital_loss  hours_per_week native_country  income  \n",
       "0          2174             0              40  United-States   <=50K  \n",
       "1             0             0              13  United-States   <=50K  \n",
       "2             0             0              40  United-States   <=50K  \n",
       "3             0             0              40  United-States   <=50K  \n",
       "4             0             0              40           Cuba   <=50K  "
      ]
     },
     "execution_count": 21,
     "metadata": {},
     "output_type": "execute_result"
    }
   ],
   "source": [
    "train_df.head()"
   ]
  },
  {
   "cell_type": "code",
   "execution_count": 22,
   "id": "41facc51-44e0-4f66-aea9-1d87549f5a82",
   "metadata": {},
   "outputs": [],
   "source": [
    "# Generate statics from training data\n",
    "train_stats = tfdv.generate_statistics_from_dataframe(train_df)"
   ]
  },
  {
   "cell_type": "code",
   "execution_count": 23,
   "id": "c405a221-93bc-44d3-b344-afb49e4c03a2",
   "metadata": {},
   "outputs": [
    {
     "data": {
      "text/html": [
       "<iframe id='facets-iframe' width=\"100%\" height=\"500px\"></iframe>\n",
       "        <script>\n",
       "        facets_iframe = document.getElementById('facets-iframe');\n",
       "        facets_html = '<script src=\"https://cdnjs.cloudflare.com/ajax/libs/webcomponentsjs/1.3.3/webcomponents-lite.js\"><\\/script><link rel=\"import\" href=\"https://raw.githubusercontent.com/PAIR-code/facets/master/facets-dist/facets-jupyter.html\"><facets-overview proto-input=\"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\"></facets-overview>';\n",
       "        facets_iframe.srcdoc = facets_html;\n",
       "         facets_iframe.id = \"\";\n",
       "         setTimeout(() => {\n",
       "           facets_iframe.setAttribute('height', facets_iframe.contentWindow.document.body.offsetHeight + 'px')\n",
       "         }, 1500)\n",
       "         </script>"
      ],
      "text/plain": [
       "<IPython.core.display.HTML object>"
      ]
     },
     "metadata": {},
     "output_type": "display_data"
    }
   ],
   "source": [
    "# Visualize statistics from generated statistics by tfdv\n",
    "tfdv.visualize_statistics(train_stats)"
   ]
  },
  {
   "cell_type": "code",
   "execution_count": 24,
   "id": "bd4b550a-e3fd-46b4-a86d-c3ea80a76dc4",
   "metadata": {},
   "outputs": [
    {
     "data": {
      "text/html": [
       "<div>\n",
       "<style scoped>\n",
       "    .dataframe tbody tr th:only-of-type {\n",
       "        vertical-align: middle;\n",
       "    }\n",
       "\n",
       "    .dataframe tbody tr th {\n",
       "        vertical-align: top;\n",
       "    }\n",
       "\n",
       "    .dataframe thead th {\n",
       "        text-align: right;\n",
       "    }\n",
       "</style>\n",
       "<table border=\"1\" class=\"dataframe\">\n",
       "  <thead>\n",
       "    <tr style=\"text-align: right;\">\n",
       "      <th></th>\n",
       "      <th>Type</th>\n",
       "      <th>Presence</th>\n",
       "      <th>Valency</th>\n",
       "      <th>Domain</th>\n",
       "    </tr>\n",
       "    <tr>\n",
       "      <th>Feature name</th>\n",
       "      <th></th>\n",
       "      <th></th>\n",
       "      <th></th>\n",
       "      <th></th>\n",
       "    </tr>\n",
       "  </thead>\n",
       "  <tbody>\n",
       "    <tr>\n",
       "      <th>'age'</th>\n",
       "      <td>INT</td>\n",
       "      <td>required</td>\n",
       "      <td></td>\n",
       "      <td>-</td>\n",
       "    </tr>\n",
       "    <tr>\n",
       "      <th>'workclass'</th>\n",
       "      <td>STRING</td>\n",
       "      <td>required</td>\n",
       "      <td></td>\n",
       "      <td>'workclass'</td>\n",
       "    </tr>\n",
       "    <tr>\n",
       "      <th>'fnlwgt'</th>\n",
       "      <td>INT</td>\n",
       "      <td>required</td>\n",
       "      <td></td>\n",
       "      <td>-</td>\n",
       "    </tr>\n",
       "    <tr>\n",
       "      <th>'education'</th>\n",
       "      <td>STRING</td>\n",
       "      <td>required</td>\n",
       "      <td></td>\n",
       "      <td>'education'</td>\n",
       "    </tr>\n",
       "    <tr>\n",
       "      <th>'education_num'</th>\n",
       "      <td>INT</td>\n",
       "      <td>required</td>\n",
       "      <td></td>\n",
       "      <td>-</td>\n",
       "    </tr>\n",
       "    <tr>\n",
       "      <th>'marital_status'</th>\n",
       "      <td>STRING</td>\n",
       "      <td>required</td>\n",
       "      <td></td>\n",
       "      <td>'marital_status'</td>\n",
       "    </tr>\n",
       "    <tr>\n",
       "      <th>'occupation'</th>\n",
       "      <td>STRING</td>\n",
       "      <td>required</td>\n",
       "      <td></td>\n",
       "      <td>'occupation'</td>\n",
       "    </tr>\n",
       "    <tr>\n",
       "      <th>'relationship'</th>\n",
       "      <td>STRING</td>\n",
       "      <td>required</td>\n",
       "      <td></td>\n",
       "      <td>'relationship'</td>\n",
       "    </tr>\n",
       "    <tr>\n",
       "      <th>'race'</th>\n",
       "      <td>STRING</td>\n",
       "      <td>required</td>\n",
       "      <td></td>\n",
       "      <td>'race'</td>\n",
       "    </tr>\n",
       "    <tr>\n",
       "      <th>'sex'</th>\n",
       "      <td>STRING</td>\n",
       "      <td>required</td>\n",
       "      <td></td>\n",
       "      <td>'sex'</td>\n",
       "    </tr>\n",
       "    <tr>\n",
       "      <th>'capital_gain'</th>\n",
       "      <td>INT</td>\n",
       "      <td>required</td>\n",
       "      <td></td>\n",
       "      <td>-</td>\n",
       "    </tr>\n",
       "    <tr>\n",
       "      <th>'capital_loss'</th>\n",
       "      <td>INT</td>\n",
       "      <td>required</td>\n",
       "      <td></td>\n",
       "      <td>-</td>\n",
       "    </tr>\n",
       "    <tr>\n",
       "      <th>'hours_per_week'</th>\n",
       "      <td>INT</td>\n",
       "      <td>required</td>\n",
       "      <td></td>\n",
       "      <td>-</td>\n",
       "    </tr>\n",
       "    <tr>\n",
       "      <th>'native_country'</th>\n",
       "      <td>STRING</td>\n",
       "      <td>required</td>\n",
       "      <td></td>\n",
       "      <td>'native_country'</td>\n",
       "    </tr>\n",
       "    <tr>\n",
       "      <th>'income'</th>\n",
       "      <td>STRING</td>\n",
       "      <td>required</td>\n",
       "      <td></td>\n",
       "      <td>'income'</td>\n",
       "    </tr>\n",
       "  </tbody>\n",
       "</table>\n",
       "</div>"
      ],
      "text/plain": [
       "                    Type  Presence Valency            Domain\n",
       "Feature name                                                \n",
       "'age'                INT  required                         -\n",
       "'workclass'       STRING  required               'workclass'\n",
       "'fnlwgt'             INT  required                         -\n",
       "'education'       STRING  required               'education'\n",
       "'education_num'      INT  required                         -\n",
       "'marital_status'  STRING  required          'marital_status'\n",
       "'occupation'      STRING  required              'occupation'\n",
       "'relationship'    STRING  required            'relationship'\n",
       "'race'            STRING  required                    'race'\n",
       "'sex'             STRING  required                     'sex'\n",
       "'capital_gain'       INT  required                         -\n",
       "'capital_loss'       INT  required                         -\n",
       "'hours_per_week'     INT  required                         -\n",
       "'native_country'  STRING  required          'native_country'\n",
       "'income'          STRING  required                  'income'"
      ]
     },
     "metadata": {},
     "output_type": "display_data"
    },
    {
     "data": {
      "text/html": [
       "<div>\n",
       "<style scoped>\n",
       "    .dataframe tbody tr th:only-of-type {\n",
       "        vertical-align: middle;\n",
       "    }\n",
       "\n",
       "    .dataframe tbody tr th {\n",
       "        vertical-align: top;\n",
       "    }\n",
       "\n",
       "    .dataframe thead th {\n",
       "        text-align: right;\n",
       "    }\n",
       "</style>\n",
       "<table border=\"1\" class=\"dataframe\">\n",
       "  <thead>\n",
       "    <tr style=\"text-align: right;\">\n",
       "      <th></th>\n",
       "      <th>Values</th>\n",
       "    </tr>\n",
       "    <tr>\n",
       "      <th>Domain</th>\n",
       "      <th></th>\n",
       "    </tr>\n",
       "  </thead>\n",
       "  <tbody>\n",
       "    <tr>\n",
       "      <th>'workclass'</th>\n",
       "      <td>'?', 'Federal-gov', 'Local-gov', 'Never-worked', 'Private', 'Self-emp-inc', 'Self-emp-not-inc', 'State-gov', 'Without-pay'</td>\n",
       "    </tr>\n",
       "    <tr>\n",
       "      <th>'education'</th>\n",
       "      <td>'10th', '11th', '12th', '1st-4th', '5th-6th', '7th-8th', '9th', 'Assoc-acdm', 'Assoc-voc', 'Bachelors', 'Doctorate', 'HS-grad', 'Masters', 'Preschool', 'Prof-school', 'Some-college'</td>\n",
       "    </tr>\n",
       "    <tr>\n",
       "      <th>'marital_status'</th>\n",
       "      <td>'Divorced', 'Married-AF-spouse', 'Married-civ-spouse', 'Married-spouse-absent', 'Never-married', 'Separated', 'Widowed'</td>\n",
       "    </tr>\n",
       "    <tr>\n",
       "      <th>'occupation'</th>\n",
       "      <td>'?', 'Adm-clerical', 'Armed-Forces', 'Craft-repair', 'Exec-managerial', 'Farming-fishing', 'Handlers-cleaners', 'Machine-op-inspct', 'Other-service', 'Priv-house-serv', 'Prof-specialty', 'Protective-serv', 'Sales', 'Tech-support', 'Transport-moving'</td>\n",
       "    </tr>\n",
       "    <tr>\n",
       "      <th>'relationship'</th>\n",
       "      <td>'Husband', 'Not-in-family', 'Other-relative', 'Own-child', 'Unmarried', 'Wife'</td>\n",
       "    </tr>\n",
       "    <tr>\n",
       "      <th>'race'</th>\n",
       "      <td>'Amer-Indian-Eskimo', 'Asian-Pac-Islander', 'Black', 'Other', 'White'</td>\n",
       "    </tr>\n",
       "    <tr>\n",
       "      <th>'sex'</th>\n",
       "      <td>'Female', 'Male'</td>\n",
       "    </tr>\n",
       "    <tr>\n",
       "      <th>'native_country'</th>\n",
       "      <td>'?', 'Cambodia', 'Canada', 'China', 'Columbia', 'Cuba', 'Dominican-Republic', 'Ecuador', 'El-Salvador', 'England', 'France', 'Germany', 'Greece', 'Guatemala', 'Haiti', 'Holand-Netherlands', 'Honduras', 'Hong', 'Hungary', 'India', 'Iran', 'Ireland', 'Italy', 'Jamaica', 'Japan', 'Laos', 'Mexico', 'Nicaragua', 'Outlying-US(Guam-USVI-etc)', 'Peru', 'Philippines', 'Poland', 'Portugal', 'Puerto-Rico', 'Scotland', 'South', 'Taiwan', 'Thailand', 'Trinadad&amp;Tobago', 'United-States', 'Vietnam', 'Yugoslavia'</td>\n",
       "    </tr>\n",
       "    <tr>\n",
       "      <th>'income'</th>\n",
       "      <td>' &lt;=50K', ' &gt;50K'</td>\n",
       "    </tr>\n",
       "  </tbody>\n",
       "</table>\n",
       "</div>"
      ],
      "text/plain": [
       "                                                                                                                                                                                                                                                                                                                                                                                                                                                                                                                                 Values\n",
       "Domain                                                                                                                                                                                                                                                                                                                                                                                                                                                                                                                                 \n",
       "'workclass'                                                                                                                                                                                                                                                                                                                                                                                                  '?', 'Federal-gov', 'Local-gov', 'Never-worked', 'Private', 'Self-emp-inc', 'Self-emp-not-inc', 'State-gov', 'Without-pay'\n",
       "'education'                                                                                                                                                                                                                                                                                                                                       '10th', '11th', '12th', '1st-4th', '5th-6th', '7th-8th', '9th', 'Assoc-acdm', 'Assoc-voc', 'Bachelors', 'Doctorate', 'HS-grad', 'Masters', 'Preschool', 'Prof-school', 'Some-college'\n",
       "'marital_status'                                                                                                                                                                                                                                                                                                                                                                                                'Divorced', 'Married-AF-spouse', 'Married-civ-spouse', 'Married-spouse-absent', 'Never-married', 'Separated', 'Widowed'\n",
       "'occupation'                                                                                                                                                                                                                                                                  '?', 'Adm-clerical', 'Armed-Forces', 'Craft-repair', 'Exec-managerial', 'Farming-fishing', 'Handlers-cleaners', 'Machine-op-inspct', 'Other-service', 'Priv-house-serv', 'Prof-specialty', 'Protective-serv', 'Sales', 'Tech-support', 'Transport-moving'\n",
       "'relationship'                                                                                                                                                                                                                                                                                                                                                                                                                                           'Husband', 'Not-in-family', 'Other-relative', 'Own-child', 'Unmarried', 'Wife'\n",
       "'race'                                                                                                                                                                                                                                                                                                                                                                                                                                                            'Amer-Indian-Eskimo', 'Asian-Pac-Islander', 'Black', 'Other', 'White'\n",
       "'sex'                                                                                                                                                                                                                                                                                                                                                                                                                                                                                                                  'Female', 'Male'\n",
       "'native_country'  '?', 'Cambodia', 'Canada', 'China', 'Columbia', 'Cuba', 'Dominican-Republic', 'Ecuador', 'El-Salvador', 'England', 'France', 'Germany', 'Greece', 'Guatemala', 'Haiti', 'Holand-Netherlands', 'Honduras', 'Hong', 'Hungary', 'India', 'Iran', 'Ireland', 'Italy', 'Jamaica', 'Japan', 'Laos', 'Mexico', 'Nicaragua', 'Outlying-US(Guam-USVI-etc)', 'Peru', 'Philippines', 'Poland', 'Portugal', 'Puerto-Rico', 'Scotland', 'South', 'Taiwan', 'Thailand', 'Trinadad&Tobago', 'United-States', 'Vietnam', 'Yugoslavia'\n",
       "'income'                                                                                                                                                                                                                                                                                                                                                                                                                                                                                                              ' <=50K', ' >50K'"
      ]
     },
     "metadata": {},
     "output_type": "display_data"
    }
   ],
   "source": [
    "# Infer schema from computed statistics\n",
    "schema = tfdv.infer_schema(statistics=train_stats)\n",
    "\n",
    "# Display the inferred schema\n",
    "tfdv.display_schema(schema=schema)"
   ]
  },
  {
   "cell_type": "code",
   "execution_count": 25,
   "id": "e29dd5b7-d021-4fff-a72f-3fc31ed8239a",
   "metadata": {},
   "outputs": [],
   "source": [
    "# Generate statistics for test_data\n",
    "test_stats = tfdv.generate_statistics_from_dataframe(test_df)"
   ]
  },
  {
   "cell_type": "code",
   "execution_count": 26,
   "id": "2bf0ae4f-ad49-4ec9-ae5e-8ae20124049b",
   "metadata": {},
   "outputs": [
    {
     "data": {
      "text/html": [
       "<iframe id='facets-iframe' width=\"100%\" height=\"500px\"></iframe>\n",
       "        <script>\n",
       "        facets_iframe = document.getElementById('facets-iframe');\n",
       "        facets_html = '<script src=\"https://cdnjs.cloudflare.com/ajax/libs/webcomponentsjs/1.3.3/webcomponents-lite.js\"><\\/script><link rel=\"import\" href=\"https://raw.githubusercontent.com/PAIR-code/facets/master/facets-dist/facets-jupyter.html\"><facets-overview proto-input=\"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\"></facets-overview>';\n",
       "        facets_iframe.srcdoc = facets_html;\n",
       "         facets_iframe.id = \"\";\n",
       "         setTimeout(() => {\n",
       "           facets_iframe.setAttribute('height', facets_iframe.contentWindow.document.body.offsetHeight + 'px')\n",
       "         }, 1500)\n",
       "         </script>"
      ],
      "text/plain": [
       "<IPython.core.display.HTML object>"
      ]
     },
     "metadata": {},
     "output_type": "display_data"
    }
   ],
   "source": [
    "# Visualize the test_stats\n",
    "tfdv.visualize_statistics(test_stats)"
   ]
  },
  {
   "cell_type": "code",
   "execution_count": 27,
   "id": "e912146e-6c75-4c9a-987d-501114148406",
   "metadata": {},
   "outputs": [
    {
     "data": {
      "text/html": [
       "<iframe id='facets-iframe' width=\"100%\" height=\"500px\"></iframe>\n",
       "        <script>\n",
       "        facets_iframe = document.getElementById('facets-iframe');\n",
       "        facets_html = '<script src=\"https://cdnjs.cloudflare.com/ajax/libs/webcomponentsjs/1.3.3/webcomponents-lite.js\"><\\/script><link rel=\"import\" href=\"https://raw.githubusercontent.com/PAIR-code/facets/master/facets-dist/facets-jupyter.html\"><facets-overview proto-input=\"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\"></facets-overview>';\n",
       "        facets_iframe.srcdoc = facets_html;\n",
       "         facets_iframe.id = \"\";\n",
       "         setTimeout(() => {\n",
       "           facets_iframe.setAttribute('height', facets_iframe.contentWindow.document.body.offsetHeight + 'px')\n",
       "         }, 1500)\n",
       "         </script>"
      ],
      "text/plain": [
       "<IPython.core.display.HTML object>"
      ]
     },
     "metadata": {},
     "output_type": "display_data"
    }
   ],
   "source": [
    "# Visualize the train and test statistics to compare\n",
    "tfdv.visualize_statistics(\n",
    "    lhs_statistics= test_stats,\n",
    "    rhs_statistics= train_stats,\n",
    "    lhs_name= \"TEST_DATASET\",\n",
    "    rhs_name= \"TRAIN_DATASET\"\n",
    ")"
   ]
  },
  {
   "cell_type": "markdown",
   "id": "192ba5d5-de70-4b45-b776-7b11aff0405e",
   "metadata": {},
   "source": [
    "The datasets from this view came from the same distribution and there is nothing to be addressed let's calculate and visualize the anomalies if there are any in our evaluation set so we can fix them"
   ]
  },
  {
   "cell_type": "code",
   "execution_count": 28,
   "id": "e23051dc-718e-4a00-b5db-4ec31f0d6350",
   "metadata": {},
   "outputs": [],
   "source": [
    "# Validate the test data computed statistics from the reference schema of the data that will be used for training\n",
    "anomalies = tfdv.validate_statistics(statistics=test_stats, schema=schema)"
   ]
  },
  {
   "cell_type": "code",
   "execution_count": 29,
   "id": "f93428a7-1b68-4bf2-8d2c-ef9b5de252ca",
   "metadata": {},
   "outputs": [
    {
     "data": {
      "text/html": [
       "<h4 style=\"color:green;\">No anomalies found.</h4>"
      ],
      "text/plain": [
       "<IPython.core.display.HTML object>"
      ]
     },
     "metadata": {},
     "output_type": "display_data"
    }
   ],
   "source": [
    "tfdv.display_anomalies(anomalies)"
   ]
  },
  {
   "cell_type": "code",
   "execution_count": 32,
   "id": "e7d023fb-efe9-4cfa-b4b0-0b3dc7a3a909",
   "metadata": {},
   "outputs": [
    {
     "data": {
      "text/html": [
       "<div>\n",
       "<style scoped>\n",
       "    .dataframe tbody tr th:only-of-type {\n",
       "        vertical-align: middle;\n",
       "    }\n",
       "\n",
       "    .dataframe tbody tr th {\n",
       "        vertical-align: top;\n",
       "    }\n",
       "\n",
       "    .dataframe thead th {\n",
       "        text-align: right;\n",
       "    }\n",
       "</style>\n",
       "<table border=\"1\" class=\"dataframe\">\n",
       "  <thead>\n",
       "    <tr style=\"text-align: right;\">\n",
       "      <th></th>\n",
       "      <th>Type</th>\n",
       "      <th>Presence</th>\n",
       "      <th>Valency</th>\n",
       "      <th>Domain</th>\n",
       "    </tr>\n",
       "    <tr>\n",
       "      <th>Feature name</th>\n",
       "      <th></th>\n",
       "      <th></th>\n",
       "      <th></th>\n",
       "      <th></th>\n",
       "    </tr>\n",
       "  </thead>\n",
       "  <tbody>\n",
       "    <tr>\n",
       "      <th>'age'</th>\n",
       "      <td>INT</td>\n",
       "      <td>required</td>\n",
       "      <td></td>\n",
       "      <td>min: 17; max: 90</td>\n",
       "    </tr>\n",
       "    <tr>\n",
       "      <th>'workclass'</th>\n",
       "      <td>STRING</td>\n",
       "      <td>required</td>\n",
       "      <td></td>\n",
       "      <td>'workclass'</td>\n",
       "    </tr>\n",
       "    <tr>\n",
       "      <th>'fnlwgt'</th>\n",
       "      <td>INT</td>\n",
       "      <td>required</td>\n",
       "      <td></td>\n",
       "      <td>-</td>\n",
       "    </tr>\n",
       "    <tr>\n",
       "      <th>'education'</th>\n",
       "      <td>STRING</td>\n",
       "      <td>required</td>\n",
       "      <td></td>\n",
       "      <td>'education'</td>\n",
       "    </tr>\n",
       "    <tr>\n",
       "      <th>'education_num'</th>\n",
       "      <td>INT</td>\n",
       "      <td>required</td>\n",
       "      <td></td>\n",
       "      <td>-</td>\n",
       "    </tr>\n",
       "    <tr>\n",
       "      <th>'marital_status'</th>\n",
       "      <td>STRING</td>\n",
       "      <td>required</td>\n",
       "      <td></td>\n",
       "      <td>'marital_status'</td>\n",
       "    </tr>\n",
       "    <tr>\n",
       "      <th>'occupation'</th>\n",
       "      <td>STRING</td>\n",
       "      <td>required</td>\n",
       "      <td></td>\n",
       "      <td>'occupation'</td>\n",
       "    </tr>\n",
       "    <tr>\n",
       "      <th>'relationship'</th>\n",
       "      <td>STRING</td>\n",
       "      <td>required</td>\n",
       "      <td></td>\n",
       "      <td>'relationship'</td>\n",
       "    </tr>\n",
       "    <tr>\n",
       "      <th>'race'</th>\n",
       "      <td>STRING</td>\n",
       "      <td>required</td>\n",
       "      <td></td>\n",
       "      <td>'race'</td>\n",
       "    </tr>\n",
       "    <tr>\n",
       "      <th>'sex'</th>\n",
       "      <td>STRING</td>\n",
       "      <td>required</td>\n",
       "      <td></td>\n",
       "      <td>'sex'</td>\n",
       "    </tr>\n",
       "    <tr>\n",
       "      <th>'capital_gain'</th>\n",
       "      <td>INT</td>\n",
       "      <td>required</td>\n",
       "      <td></td>\n",
       "      <td>-</td>\n",
       "    </tr>\n",
       "    <tr>\n",
       "      <th>'capital_loss'</th>\n",
       "      <td>INT</td>\n",
       "      <td>required</td>\n",
       "      <td></td>\n",
       "      <td>-</td>\n",
       "    </tr>\n",
       "    <tr>\n",
       "      <th>'hours_per_week'</th>\n",
       "      <td>INT</td>\n",
       "      <td>required</td>\n",
       "      <td></td>\n",
       "      <td>-</td>\n",
       "    </tr>\n",
       "    <tr>\n",
       "      <th>'native_country'</th>\n",
       "      <td>STRING</td>\n",
       "      <td>required</td>\n",
       "      <td></td>\n",
       "      <td>'native_country'</td>\n",
       "    </tr>\n",
       "    <tr>\n",
       "      <th>'income'</th>\n",
       "      <td>STRING</td>\n",
       "      <td>required</td>\n",
       "      <td></td>\n",
       "      <td>'income'</td>\n",
       "    </tr>\n",
       "  </tbody>\n",
       "</table>\n",
       "</div>"
      ],
      "text/plain": [
       "                    Type  Presence Valency            Domain\n",
       "Feature name                                                \n",
       "'age'                INT  required          min: 17; max: 90\n",
       "'workclass'       STRING  required               'workclass'\n",
       "'fnlwgt'             INT  required                         -\n",
       "'education'       STRING  required               'education'\n",
       "'education_num'      INT  required                         -\n",
       "'marital_status'  STRING  required          'marital_status'\n",
       "'occupation'      STRING  required              'occupation'\n",
       "'relationship'    STRING  required            'relationship'\n",
       "'race'            STRING  required                    'race'\n",
       "'sex'             STRING  required                     'sex'\n",
       "'capital_gain'       INT  required                         -\n",
       "'capital_loss'       INT  required                         -\n",
       "'hours_per_week'     INT  required                         -\n",
       "'native_country'  STRING  required          'native_country'\n",
       "'income'          STRING  required                  'income'"
      ]
     },
     "metadata": {},
     "output_type": "display_data"
    },
    {
     "data": {
      "text/html": [
       "<div>\n",
       "<style scoped>\n",
       "    .dataframe tbody tr th:only-of-type {\n",
       "        vertical-align: middle;\n",
       "    }\n",
       "\n",
       "    .dataframe tbody tr th {\n",
       "        vertical-align: top;\n",
       "    }\n",
       "\n",
       "    .dataframe thead th {\n",
       "        text-align: right;\n",
       "    }\n",
       "</style>\n",
       "<table border=\"1\" class=\"dataframe\">\n",
       "  <thead>\n",
       "    <tr style=\"text-align: right;\">\n",
       "      <th></th>\n",
       "      <th>Values</th>\n",
       "    </tr>\n",
       "    <tr>\n",
       "      <th>Domain</th>\n",
       "      <th></th>\n",
       "    </tr>\n",
       "  </thead>\n",
       "  <tbody>\n",
       "    <tr>\n",
       "      <th>'workclass'</th>\n",
       "      <td>'?', 'Federal-gov', 'Local-gov', 'Never-worked', 'Private', 'Self-emp-inc', 'Self-emp-not-inc', 'State-gov', 'Without-pay'</td>\n",
       "    </tr>\n",
       "    <tr>\n",
       "      <th>'education'</th>\n",
       "      <td>'10th', '11th', '12th', '1st-4th', '5th-6th', '7th-8th', '9th', 'Assoc-acdm', 'Assoc-voc', 'Bachelors', 'Doctorate', 'HS-grad', 'Masters', 'Preschool', 'Prof-school', 'Some-college'</td>\n",
       "    </tr>\n",
       "    <tr>\n",
       "      <th>'marital_status'</th>\n",
       "      <td>'Divorced', 'Married-AF-spouse', 'Married-civ-spouse', 'Married-spouse-absent', 'Never-married', 'Separated', 'Widowed'</td>\n",
       "    </tr>\n",
       "    <tr>\n",
       "      <th>'occupation'</th>\n",
       "      <td>'?', 'Adm-clerical', 'Armed-Forces', 'Craft-repair', 'Exec-managerial', 'Farming-fishing', 'Handlers-cleaners', 'Machine-op-inspct', 'Other-service', 'Priv-house-serv', 'Prof-specialty', 'Protective-serv', 'Sales', 'Tech-support', 'Transport-moving'</td>\n",
       "    </tr>\n",
       "    <tr>\n",
       "      <th>'relationship'</th>\n",
       "      <td>'Husband', 'Not-in-family', 'Other-relative', 'Own-child', 'Unmarried', 'Wife'</td>\n",
       "    </tr>\n",
       "    <tr>\n",
       "      <th>'race'</th>\n",
       "      <td>'Amer-Indian-Eskimo', 'Asian-Pac-Islander', 'Black', 'Other', 'White'</td>\n",
       "    </tr>\n",
       "    <tr>\n",
       "      <th>'sex'</th>\n",
       "      <td>'Female', 'Male'</td>\n",
       "    </tr>\n",
       "    <tr>\n",
       "      <th>'native_country'</th>\n",
       "      <td>'?', 'Cambodia', 'Canada', 'China', 'Columbia', 'Cuba', 'Dominican-Republic', 'Ecuador', 'El-Salvador', 'England', 'France', 'Germany', 'Greece', 'Guatemala', 'Haiti', 'Holand-Netherlands', 'Honduras', 'Hong', 'Hungary', 'India', 'Iran', 'Ireland', 'Italy', 'Jamaica', 'Japan', 'Laos', 'Mexico', 'Nicaragua', 'Outlying-US(Guam-USVI-etc)', 'Peru', 'Philippines', 'Poland', 'Portugal', 'Puerto-Rico', 'Scotland', 'South', 'Taiwan', 'Thailand', 'Trinadad&amp;Tobago', 'United-States', 'Vietnam', 'Yugoslavia'</td>\n",
       "    </tr>\n",
       "    <tr>\n",
       "      <th>'income'</th>\n",
       "      <td>' &lt;=50K', ' &gt;50K'</td>\n",
       "    </tr>\n",
       "  </tbody>\n",
       "</table>\n",
       "</div>"
      ],
      "text/plain": [
       "                                                                                                                                                                                                                                                                                                                                                                                                                                                                                                                                 Values\n",
       "Domain                                                                                                                                                                                                                                                                                                                                                                                                                                                                                                                                 \n",
       "'workclass'                                                                                                                                                                                                                                                                                                                                                                                                  '?', 'Federal-gov', 'Local-gov', 'Never-worked', 'Private', 'Self-emp-inc', 'Self-emp-not-inc', 'State-gov', 'Without-pay'\n",
       "'education'                                                                                                                                                                                                                                                                                                                                       '10th', '11th', '12th', '1st-4th', '5th-6th', '7th-8th', '9th', 'Assoc-acdm', 'Assoc-voc', 'Bachelors', 'Doctorate', 'HS-grad', 'Masters', 'Preschool', 'Prof-school', 'Some-college'\n",
       "'marital_status'                                                                                                                                                                                                                                                                                                                                                                                                'Divorced', 'Married-AF-spouse', 'Married-civ-spouse', 'Married-spouse-absent', 'Never-married', 'Separated', 'Widowed'\n",
       "'occupation'                                                                                                                                                                                                                                                                  '?', 'Adm-clerical', 'Armed-Forces', 'Craft-repair', 'Exec-managerial', 'Farming-fishing', 'Handlers-cleaners', 'Machine-op-inspct', 'Other-service', 'Priv-house-serv', 'Prof-specialty', 'Protective-serv', 'Sales', 'Tech-support', 'Transport-moving'\n",
       "'relationship'                                                                                                                                                                                                                                                                                                                                                                                                                                           'Husband', 'Not-in-family', 'Other-relative', 'Own-child', 'Unmarried', 'Wife'\n",
       "'race'                                                                                                                                                                                                                                                                                                                                                                                                                                                            'Amer-Indian-Eskimo', 'Asian-Pac-Islander', 'Black', 'Other', 'White'\n",
       "'sex'                                                                                                                                                                                                                                                                                                                                                                                                                                                                                                                  'Female', 'Male'\n",
       "'native_country'  '?', 'Cambodia', 'Canada', 'China', 'Columbia', 'Cuba', 'Dominican-Republic', 'Ecuador', 'El-Salvador', 'England', 'France', 'Germany', 'Greece', 'Guatemala', 'Haiti', 'Holand-Netherlands', 'Honduras', 'Hong', 'Hungary', 'India', 'Iran', 'Ireland', 'Italy', 'Jamaica', 'Japan', 'Laos', 'Mexico', 'Nicaragua', 'Outlying-US(Guam-USVI-etc)', 'Peru', 'Philippines', 'Poland', 'Portugal', 'Puerto-Rico', 'Scotland', 'South', 'Taiwan', 'Thailand', 'Trinadad&Tobago', 'United-States', 'Vietnam', 'Yugoslavia'\n",
       "'income'                                                                                                                                                                                                                                                                                                                                                                                                                                                                                                              ' <=50K', ' >50K'"
      ]
     },
     "metadata": {},
     "output_type": "display_data"
    }
   ],
   "source": [
    "# Restrict the 'age' feature range since we know the valid expected values for age range\n",
    "tfdv.set_domain(schema , 'age', schema_pb2.IntDomain(name='age', min = 17, max = 90))\n",
    "\n",
    "# Display schema \n",
    "tfdv.display_schema(schema)"
   ]
  },
  {
   "cell_type": "code",
   "execution_count": 34,
   "id": "3459934a-f222-4f59-a9a3-b83631aaa260",
   "metadata": {},
   "outputs": [
    {
     "data": {
      "text/html": [
       "<h4 style=\"color:green;\">No anomalies found.</h4>"
      ],
      "text/plain": [
       "<IPython.core.display.HTML object>"
      ]
     },
     "metadata": {},
     "output_type": "display_data"
    }
   ],
   "source": [
    "anomalies = tfdv.validate_statistics(test_stats, schema)\n",
    "\n",
    "tfdv.display_anomalies(anomalies)"
   ]
  },
  {
   "cell_type": "markdown",
   "id": "31923830-96b5-4ced-881f-9d7d99cd59a9",
   "metadata": {},
   "source": [
    "### Examine Dataset Slices"
   ]
  },
  {
   "cell_type": "code",
   "execution_count": 36,
   "id": "02f8da05-b868-4601-8edb-925da5ad5df1",
   "metadata": {},
   "outputs": [],
   "source": [
    "from tensorflow_data_validation.utils import slicing_util\n",
    "race_slice_fn = slicing_util.get_feature_value_slicer(features = {'race':None})\n",
    "sex_slice_fn = slicing_util.get_feature_value_slicer(features = {'sex':None})"
   ]
  },
  {
   "cell_type": "code",
   "execution_count": 38,
   "id": "78cba197-870b-4e5c-a5c7-a3a4c870c6a3",
   "metadata": {},
   "outputs": [],
   "source": [
    "race_slice_stats = tfdv.StatsOptions(\n",
    "    schema = schema,\n",
    "    slice_functions=[race_slice_fn],\n",
    "    infer_type_from_schema=True\n",
    ")\n",
    "\n",
    "sex_slice_stats = tfdv.StatsOptions(\n",
    "    schema=schema,\n",
    "    slice_functions=[sex_slice_fn],\n",
    "    infer_type_from_schema= True\n",
    ")"
   ]
  },
  {
   "cell_type": "code",
   "execution_count": 39,
   "id": "4693283d-3e8b-4da0-9969-1d2baef753fa",
   "metadata": {},
   "outputs": [],
   "source": [
    "SEX_SLICE_CSV_PATH = \"data/sex_slice.csv\"\n",
    "RACE_SLICE_CSV_PATH = \"data/race_slice.csv\""
   ]
  },
  {
   "cell_type": "code",
   "execution_count": 40,
   "id": "346c4258-9510-4708-85b5-382c1ab9398b",
   "metadata": {},
   "outputs": [],
   "source": [
    "train_df.to_csv(SEX_SLICE_CSV_PATH)\n",
    "train_df.to_csv(RACE_SLICE_CSV_PATH)"
   ]
  },
  {
   "cell_type": "code",
   "execution_count": 41,
   "id": "64a01cfa-8b68-4248-a492-0d5a59fc900b",
   "metadata": {},
   "outputs": [
    {
     "name": "stderr",
     "output_type": "stream",
     "text": [
      "WARNING:apache_beam.runners.interactive.interactive_environment:Dependencies required for Interactive Beam PCollection visualization are not available, please use: `pip install apache-beam[interactive]` to install necessary dependencies to enable all data visualization features.\n"
     ]
    },
    {
     "data": {
      "application/javascript": [
       "\n",
       "        if (typeof window.interactive_beam_jquery == 'undefined') {\n",
       "          var jqueryScript = document.createElement('script');\n",
       "          jqueryScript.src = 'https://code.jquery.com/jquery-3.4.1.slim.min.js';\n",
       "          jqueryScript.type = 'text/javascript';\n",
       "          jqueryScript.onload = function() {\n",
       "            var datatableScript = document.createElement('script');\n",
       "            datatableScript.src = 'https://cdn.datatables.net/1.10.20/js/jquery.dataTables.min.js';\n",
       "            datatableScript.type = 'text/javascript';\n",
       "            datatableScript.onload = function() {\n",
       "              window.interactive_beam_jquery = jQuery.noConflict(true);\n",
       "              window.interactive_beam_jquery(document).ready(function($){\n",
       "                \n",
       "              });\n",
       "            }\n",
       "            document.head.appendChild(datatableScript);\n",
       "          };\n",
       "          document.head.appendChild(jqueryScript);\n",
       "        } else {\n",
       "          window.interactive_beam_jquery(document).ready(function($){\n",
       "            \n",
       "          });\n",
       "        }"
      ]
     },
     "metadata": {},
     "output_type": "display_data"
    },
    {
     "name": "stderr",
     "output_type": "stream",
     "text": [
      "WARNING:apache_beam.io.tfrecordio:Couldn't find python-snappy so the implementation of _TFRecordUtil._masked_crc32c is not as fast as it could be.\n"
     ]
    },
    {
     "name": "stdout",
     "output_type": "stream",
     "text": [
      "WARNING:tensorflow:From C:\\Users\\Windows 10\\AppData\\Roaming\\Python\\Python310\\site-packages\\tensorflow_data_validation\\utils\\artifacts_io_impl.py:93: tf_record_iterator (from tensorflow.python.lib.io.tf_record) is deprecated and will be removed in a future version.\n",
      "Instructions for updating:\n",
      "Use eager execution and: \n",
      "`tf.data.TFRecordDataset(path)`\n"
     ]
    },
    {
     "name": "stderr",
     "output_type": "stream",
     "text": [
      "WARNING:tensorflow:From C:\\Users\\Windows 10\\AppData\\Roaming\\Python\\Python310\\site-packages\\tensorflow_data_validation\\utils\\artifacts_io_impl.py:93: tf_record_iterator (from tensorflow.python.lib.io.tf_record) is deprecated and will be removed in a future version.\n",
      "Instructions for updating:\n",
      "Use eager execution and: \n",
      "`tf.data.TFRecordDataset(path)`\n"
     ]
    }
   ],
   "source": [
    "# Calculate statistice for the feature 'sex' slice data\n",
    "sex_slice_stat_option = tfdv.generate_statistics_from_csv(SEX_SLICE_CSV_PATH, stats_options=sex_slice_stats)\n",
    "\n",
    "# Calculate statistice for the feature 'race' slice data\n",
    "race_slice_stat_option = tfdv.generate_statistics_from_csv(RACE_SLICE_CSV_PATH, stats_options=race_slice_stats)"
   ]
  },
  {
   "cell_type": "code",
   "execution_count": 42,
   "id": "c7df3af3-322f-4712-aa53-342df0a092f1",
   "metadata": {},
   "outputs": [],
   "source": [
    "from tensorflow_metadata.proto.v0.statistics_pb2 import DatasetFeatureStatisticsList\n",
    "\n",
    "# Convert `Male` statistics (index=1) to the correct type and get the dataset name\n",
    "male_stats_list = DatasetFeatureStatisticsList()\n",
    "male_stats_list.datasets.extend([sex_slice_stat_option.datasets[1]])\n",
    "male_stats_name = sex_slice_stat_option.datasets[1].name\n",
    "\n",
    "# Convert `Female` statistics (index=2) to the correct type and get the dataset name\n",
    "female_stats_list = DatasetFeatureStatisticsList()\n",
    "female_stats_list.datasets.extend([sex_slice_stat_option.datasets[2]])\n",
    "female_stats_name = sex_slice_stat_option.datasets[2].name"
   ]
  },
  {
   "cell_type": "code",
   "execution_count": 44,
   "id": "cdcf84e2-ff30-426f-a66d-cac2a5e77f8b",
   "metadata": {
    "scrolled": true
   },
   "outputs": [
    {
     "data": {
      "text/html": [
       "<iframe id='facets-iframe' width=\"100%\" height=\"500px\"></iframe>\n",
       "        <script>\n",
       "        facets_iframe = document.getElementById('facets-iframe');\n",
       "        facets_html = '<script src=\"https://cdnjs.cloudflare.com/ajax/libs/webcomponentsjs/1.3.3/webcomponents-lite.js\"><\\/script><link rel=\"import\" href=\"https://raw.githubusercontent.com/PAIR-code/facets/master/facets-dist/facets-jupyter.html\"><facets-overview proto-input=\"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\"></facets-overview>';\n",
       "        facets_iframe.srcdoc = facets_html;\n",
       "         facets_iframe.id = \"\";\n",
       "         setTimeout(() => {\n",
       "           facets_iframe.setAttribute('height', facets_iframe.contentWindow.document.body.offsetHeight + 'px')\n",
       "         }, 1500)\n",
       "         </script>"
      ],
      "text/plain": [
       "<IPython.core.display.HTML object>"
      ]
     },
     "metadata": {},
     "output_type": "display_data"
    }
   ],
   "source": [
    "tfdv.visualize_statistics(\n",
    "    lhs_statistics=male_stats_list,\n",
    "    rhs_statistics=female_stats_list,\n",
    "    lhs_name= male_stats_name,\n",
    "    rhs_name= female_stats_name\n",
    ")"
   ]
  },
  {
   "cell_type": "code",
   "execution_count": 46,
   "id": "6844cd5f-339a-4c64-80b7-9cda1608c11a",
   "metadata": {},
   "outputs": [
    {
     "name": "stdout",
     "output_type": "stream",
     "text": [
      "Datasets generated: ['All Examples', 'race_White', 'race_Black', 'race_Asian-Pac-Islander', 'race_Amer-Indian-Eskimo', 'race_Other']\n",
      "Type of sliced_stats elements: <class 'tensorflow_metadata.proto.v0.statistics_pb2.DatasetFeatureStatistics'>\n"
     ]
    }
   ],
   "source": [
    "print(f'Datasets generated: {[sliced.name for sliced in race_slice_stat_option.datasets]}')\n",
    "\n",
    "print(f'Type of sliced_stats elements: {type(race_slice_stat_option.datasets[0])}')"
   ]
  },
  {
   "cell_type": "code",
   "execution_count": 48,
   "id": "9c6b76e4-3b32-4853-b503-bca56c6d7ffa",
   "metadata": {},
   "outputs": [],
   "source": [
    "# Convert `white` statistics (index=1) to the correct type and get the dataset name\n",
    "white_stats_list = DatasetFeatureStatisticsList()\n",
    "white_stats_list.datasets.extend([race_slice_stat_option.datasets[1]])\n",
    "white_stats_name = race_slice_stat_option.datasets[1].name\n",
    "\n",
    "# Convert `black` statistics (index=2) to the correct type and get the dataset name\n",
    "black_stats_list = DatasetFeatureStatisticsList()\n",
    "black_stats_list.datasets.extend([race_slice_stat_option.datasets[2]])\n",
    "black_stats_name = race_slice_stat_option.datasets[2].name\n",
    "\n",
    "# Convert `asian` statistics (index=3) to the correct type and get the dataset name\n",
    "asian_stats_list = DatasetFeatureStatisticsList()\n",
    "asian_stats_list.datasets.extend([race_slice_stat_option.datasets[3]])\n",
    "asian_stats_name = race_slice_stat_option.datasets[3].name\n",
    "\n",
    "# Convert `indian` statistics (index=3) to the correct type and get the dataset name\n",
    "indian_stats_list = DatasetFeatureStatisticsList()\n",
    "indian_stats_list.datasets.extend([race_slice_stat_option.datasets[4]])\n",
    "indian_stats_name = race_slice_stat_option.datasets[4].name\n",
    "\n",
    "# Convert `Female` statistics (index=3) to the correct type and get the dataset name\n",
    "other_stats_list = DatasetFeatureStatisticsList()\n",
    "other_stats_list.datasets.extend([race_slice_stat_option.datasets[5]])\n",
    "other_stats_name = race_slice_stat_option.datasets[5].name"
   ]
  },
  {
   "cell_type": "code",
   "execution_count": 50,
   "id": "622b3aea-5bf0-45e4-a58e-95c80157608e",
   "metadata": {},
   "outputs": [
    {
     "data": {
      "text/html": [
       "<iframe id='facets-iframe' width=\"100%\" height=\"500px\"></iframe>\n",
       "        <script>\n",
       "        facets_iframe = document.getElementById('facets-iframe');\n",
       "        facets_html = '<script src=\"https://cdnjs.cloudflare.com/ajax/libs/webcomponentsjs/1.3.3/webcomponents-lite.js\"><\\/script><link rel=\"import\" href=\"https://raw.githubusercontent.com/PAIR-code/facets/master/facets-dist/facets-jupyter.html\"><facets-overview proto-input=\"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\"></facets-overview>';\n",
       "        facets_iframe.srcdoc = facets_html;\n",
       "         facets_iframe.id = \"\";\n",
       "         setTimeout(() => {\n",
       "           facets_iframe.setAttribute('height', facets_iframe.contentWindow.document.body.offsetHeight + 'px')\n",
       "         }, 1500)\n",
       "         </script>"
      ],
      "text/plain": [
       "<IPython.core.display.HTML object>"
      ]
     },
     "metadata": {},
     "output_type": "display_data"
    }
   ],
   "source": [
    "tfdv.visualize_statistics(\n",
    "    lhs_statistics=white_stats_list,\n",
    "    rhs_statistics=black_stats_list,\n",
    "    lhs_name= white_stats_name,\n",
    "    rhs_name= black_stats_name\n",
    ")"
   ]
  },
  {
   "cell_type": "code",
   "execution_count": null,
   "id": "eb3c0e4c-05fd-47cb-9bf0-be170b4d0e8f",
   "metadata": {},
   "outputs": [],
   "source": []
  }
 ],
 "metadata": {
  "kernelspec": {
   "display_name": "Python 3 (ipykernel)",
   "language": "python",
   "name": "python3"
  },
  "language_info": {
   "codemirror_mode": {
    "name": "ipython",
    "version": 3
   },
   "file_extension": ".py",
   "mimetype": "text/x-python",
   "name": "python",
   "nbconvert_exporter": "python",
   "pygments_lexer": "ipython3",
   "version": "3.10.13"
  }
 },
 "nbformat": 4,
 "nbformat_minor": 5
}
